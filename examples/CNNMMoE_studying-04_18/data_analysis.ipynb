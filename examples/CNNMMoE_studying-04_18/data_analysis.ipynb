{
 "cells": [
  {
   "cell_type": "code",
   "execution_count": 11,
   "metadata": {},
   "outputs": [
    {
     "ename": "RuntimeError",
     "evalue": "Tensors must have same number of dimensions: got 2 and 1",
     "output_type": "error",
     "traceback": [
      "\u001b[1;31m---------------------------------------------------------------------------\u001b[0m",
      "\u001b[1;31mRuntimeError\u001b[0m                              Traceback (most recent call last)",
      "Cell \u001b[1;32mIn[11], line 18\u001b[0m\n\u001b[0;32m     15\u001b[0m tensor_list \u001b[38;5;241m=\u001b[39m [torch\u001b[38;5;241m.\u001b[39mtensor(row) \u001b[38;5;28;01mfor\u001b[39;00m _, row \u001b[38;5;129;01min\u001b[39;00m df\u001b[38;5;241m.\u001b[39miterrows()]\n\u001b[0;32m     17\u001b[0m \u001b[38;5;66;03m# 填充序列到固定长度\u001b[39;00m\n\u001b[1;32m---> 18\u001b[0m padded_tensor \u001b[38;5;241m=\u001b[39m pad_sequence([torch\u001b[38;5;241m.\u001b[39mcat((tensor, torch\u001b[38;5;241m.\u001b[39mzeros(fixed_length \u001b[38;5;241m-\u001b[39m \u001b[38;5;28mlen\u001b[39m(tensor), dtype\u001b[38;5;241m=\u001b[39mtorch\u001b[38;5;241m.\u001b[39mlong))) \n\u001b[0;32m     19\u001b[0m                               \u001b[38;5;28;01mfor\u001b[39;00m tensor \u001b[38;5;129;01min\u001b[39;00m tensor_list], batch_first\u001b[38;5;241m=\u001b[39m\u001b[38;5;28;01mTrue\u001b[39;00m)\n\u001b[0;32m     21\u001b[0m \u001b[38;5;28mprint\u001b[39m(padded_tensor)\n",
      "Cell \u001b[1;32mIn[11], line 18\u001b[0m, in \u001b[0;36m<listcomp>\u001b[1;34m(.0)\u001b[0m\n\u001b[0;32m     15\u001b[0m tensor_list \u001b[38;5;241m=\u001b[39m [torch\u001b[38;5;241m.\u001b[39mtensor(row) \u001b[38;5;28;01mfor\u001b[39;00m _, row \u001b[38;5;129;01min\u001b[39;00m df\u001b[38;5;241m.\u001b[39miterrows()]\n\u001b[0;32m     17\u001b[0m \u001b[38;5;66;03m# 填充序列到固定长度\u001b[39;00m\n\u001b[1;32m---> 18\u001b[0m padded_tensor \u001b[38;5;241m=\u001b[39m pad_sequence([torch\u001b[38;5;241m.\u001b[39mcat((tensor, torch\u001b[38;5;241m.\u001b[39mzeros(fixed_length \u001b[38;5;241m-\u001b[39m \u001b[38;5;28mlen\u001b[39m(tensor), dtype\u001b[38;5;241m=\u001b[39mtorch\u001b[38;5;241m.\u001b[39mlong))) \n\u001b[0;32m     19\u001b[0m                               \u001b[38;5;28;01mfor\u001b[39;00m tensor \u001b[38;5;129;01min\u001b[39;00m tensor_list], batch_first\u001b[38;5;241m=\u001b[39m\u001b[38;5;28;01mTrue\u001b[39;00m)\n\u001b[0;32m     21\u001b[0m \u001b[38;5;28mprint\u001b[39m(padded_tensor)\n",
      "\u001b[1;31mRuntimeError\u001b[0m: Tensors must have same number of dimensions: got 2 and 1"
     ]
    }
   ],
   "source": [
    "import pandas as pd\n",
    "import torch\n",
    "from torch.nn.utils.rnn import pad_sequence\n",
    "\n",
    "# 创建示例 DataFrame\n",
    "data = {'col1': [[1, 2, 3], [4, 5], [6, 7, 8, 9]],\n",
    "        'col2': [[10, 11, 12], [12, 13], [16, 17, 18, 19]],\n",
    "        'col3': [[17, 18, 19], [21, 22], [22, 23, 24,25]]}\n",
    "df = pd.DataFrame(data)\n",
    "\n",
    "# 固定长度\n",
    "fixed_length = 4\n",
    "\n",
    "# 转换为张量列表并截断到固定长度\n",
    "tensor_list = [torch.tensor(row) for _, row in df.iterrows()]\n",
    "\n",
    "# 填充序列到固定长度\n",
    "padded_tensor = pad_sequence([torch.cat((tensor, torch.zeros(fixed_length - len(tensor), dtype=torch.long))) \n",
    "                              for tensor in tensor_list], batch_first=True)\n",
    "\n",
    "print(padded_tensor)"
   ]
  },
  {
   "cell_type": "code",
   "execution_count": 8,
   "metadata": {},
   "outputs": [
    {
     "data": {
      "text/html": [
       "<div>\n",
       "<style scoped>\n",
       "    .dataframe tbody tr th:only-of-type {\n",
       "        vertical-align: middle;\n",
       "    }\n",
       "\n",
       "    .dataframe tbody tr th {\n",
       "        vertical-align: top;\n",
       "    }\n",
       "\n",
       "    .dataframe thead th {\n",
       "        text-align: right;\n",
       "    }\n",
       "</style>\n",
       "<table border=\"1\" class=\"dataframe\">\n",
       "  <thead>\n",
       "    <tr style=\"text-align: right;\">\n",
       "      <th></th>\n",
       "      <th>col1</th>\n",
       "      <th>col2</th>\n",
       "      <th>col3</th>\n",
       "    </tr>\n",
       "  </thead>\n",
       "  <tbody>\n",
       "    <tr>\n",
       "      <th>0</th>\n",
       "      <td>[1, 2, 3]</td>\n",
       "      <td>[10, 11]</td>\n",
       "      <td>[17, 18, 19, 20]</td>\n",
       "    </tr>\n",
       "    <tr>\n",
       "      <th>1</th>\n",
       "      <td>[4, 5]</td>\n",
       "      <td>[12, 13, 14, 15]</td>\n",
       "      <td>[21]</td>\n",
       "    </tr>\n",
       "    <tr>\n",
       "      <th>2</th>\n",
       "      <td>[6, 7, 8, 9]</td>\n",
       "      <td>[16]</td>\n",
       "      <td>[22, 23, 24]</td>\n",
       "    </tr>\n",
       "  </tbody>\n",
       "</table>\n",
       "</div>"
      ],
      "text/plain": [
       "           col1              col2              col3\n",
       "0     [1, 2, 3]          [10, 11]  [17, 18, 19, 20]\n",
       "1        [4, 5]  [12, 13, 14, 15]              [21]\n",
       "2  [6, 7, 8, 9]              [16]      [22, 23, 24]"
      ]
     },
     "execution_count": 8,
     "metadata": {},
     "output_type": "execute_result"
    }
   ],
   "source": [
    "df"
   ]
  },
  {
   "cell_type": "code",
   "execution_count": 7,
   "metadata": {},
   "outputs": [
    {
     "name": "stdout",
     "output_type": "stream",
     "text": [
      "0 col1           [1, 2, 3]\n",
      "col2            [10, 11]\n",
      "col3    [17, 18, 19, 20]\n",
      "Name: 0, dtype: object\n",
      "1 col1              [4, 5]\n",
      "col2    [12, 13, 14, 15]\n",
      "col3                [21]\n",
      "Name: 1, dtype: object\n",
      "2 col1    [6, 7, 8, 9]\n",
      "col2            [16]\n",
      "col3    [22, 23, 24]\n",
      "Name: 2, dtype: object\n"
     ]
    }
   ],
   "source": [
    "for _, row in df.iterrows():\n",
    "    print(_, row)"
   ]
  },
  {
   "cell_type": "code",
   "execution_count": 6,
   "metadata": {},
   "outputs": [
    {
     "data": {
      "text/plain": [
       "col1           [1, 2, 3]\n",
       "col2            [10, 11]\n",
       "col3    [17, 18, 19, 20]\n",
       "Name: 0, dtype: object"
      ]
     },
     "execution_count": 6,
     "metadata": {},
     "output_type": "execute_result"
    }
   ],
   "source": [
    "row"
   ]
  },
  {
   "cell_type": "code",
   "execution_count": null,
   "metadata": {},
   "outputs": [],
   "source": []
  }
 ],
 "metadata": {
  "kernelspec": {
   "display_name": "base",
   "language": "python",
   "name": "python3"
  },
  "language_info": {
   "codemirror_mode": {
    "name": "ipython",
    "version": 3
   },
   "file_extension": ".py",
   "mimetype": "text/x-python",
   "name": "python",
   "nbconvert_exporter": "python",
   "pygments_lexer": "ipython3",
   "version": "3.11.3"
  }
 },
 "nbformat": 4,
 "nbformat_minor": 2
}
