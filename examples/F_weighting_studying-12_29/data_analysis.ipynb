{
 "cells": [
  {
   "cell_type": "code",
   "execution_count": 32,
   "metadata": {},
   "outputs": [],
   "source": [
    "import re\n",
    "import ast\n",
    "import pickle\n",
    "import random\n",
    "import pandas as pd\n",
    "import numpy as np \n",
    "import matplotlib.pyplot as plt\n",
    "import seaborn as sns\n",
    "from pathlib import Path\n",
    "from functional import seq\n",
    "from loguru import logger\n",
    "from sklearn.preprocessing import PolynomialFeatures\n",
    "from sklearn.ensemble import RandomForestRegressor\n",
    "from sklearn.model_selection import train_test_split, GridSearchCV\n",
    "from sklearn.metrics import mean_absolute_error\n",
    "from sklearn.svm import SVR\n",
    "\n",
    "from matplotlib.font_manager import FontProperties\n",
    "from matplotlib import rcParams\n",
    "\n",
    "config = {\n",
    "            \"font.family\": \"serif\",\n",
    "            \"font.size\": 12,\n",
    "            \"mathtext.fontset\": \"stix\",# matplotlib渲染数学字体时使用的字体，和Times New Roman差别不大\n",
    "            \"font.serif\": [\"STZhongsong\"],# 华文中宋\n",
    "            \"axes.unicode_minus\": False # 处理负号，即-号\n",
    "         }\n",
    "rcParams.update(config)\n",
    "\n",
    "import sys\n",
    "sys.path.append(\".\")\n",
    "sys.path.append(\"D:\\Code\\Mine\\occupational_health_system_v2\")\n",
    "from comparasion_between_AC import get_importance_from_regressor, catboost_regressor_params\n"
   ]
  },
  {
   "cell_type": "code",
   "execution_count": 2,
   "metadata": {},
   "outputs": [
    {
     "data": {
      "text/html": [
       "<div>\n",
       "<style scoped>\n",
       "    .dataframe tbody tr th:only-of-type {\n",
       "        vertical-align: middle;\n",
       "    }\n",
       "\n",
       "    .dataframe tbody tr th {\n",
       "        vertical-align: top;\n",
       "    }\n",
       "\n",
       "    .dataframe thead th {\n",
       "        text-align: right;\n",
       "    }\n",
       "</style>\n",
       "<table border=\"1\" class=\"dataframe\">\n",
       "  <thead>\n",
       "    <tr style=\"text-align: right;\">\n",
       "      <th></th>\n",
       "      <th>NIPTS</th>\n",
       "      <th>NIPTS_1000</th>\n",
       "      <th>NIPTS_2000</th>\n",
       "      <th>NIPTS_3000</th>\n",
       "      <th>NIPTS_4000</th>\n",
       "      <th>NIPTS_6000</th>\n",
       "      <th>Leq</th>\n",
       "      <th>LAeq</th>\n",
       "      <th>LCeq</th>\n",
       "      <th>Ieq</th>\n",
       "      <th>...</th>\n",
       "      <th>SPL_16000_geomean</th>\n",
       "      <th>Leq_63</th>\n",
       "      <th>Leq_125</th>\n",
       "      <th>Leq_250</th>\n",
       "      <th>Leq_500</th>\n",
       "      <th>Leq_1000</th>\n",
       "      <th>Leq_2000</th>\n",
       "      <th>Leq_4000</th>\n",
       "      <th>Leq_8000</th>\n",
       "      <th>Leq_16000</th>\n",
       "    </tr>\n",
       "    <tr>\n",
       "      <th>staff_id</th>\n",
       "      <th></th>\n",
       "      <th></th>\n",
       "      <th></th>\n",
       "      <th></th>\n",
       "      <th></th>\n",
       "      <th></th>\n",
       "      <th></th>\n",
       "      <th></th>\n",
       "      <th></th>\n",
       "      <th></th>\n",
       "      <th></th>\n",
       "      <th></th>\n",
       "      <th></th>\n",
       "      <th></th>\n",
       "      <th></th>\n",
       "      <th></th>\n",
       "      <th></th>\n",
       "      <th></th>\n",
       "      <th></th>\n",
       "      <th></th>\n",
       "      <th></th>\n",
       "    </tr>\n",
       "  </thead>\n",
       "  <tbody>\n",
       "    <tr>\n",
       "      <th>Gengde electronic equipment factory-0</th>\n",
       "      <td>9.0</td>\n",
       "      <td>19.0</td>\n",
       "      <td>16.0</td>\n",
       "      <td>10.0</td>\n",
       "      <td>9.0</td>\n",
       "      <td>8.0</td>\n",
       "      <td>99.808967</td>\n",
       "      <td>97.332718</td>\n",
       "      <td>96.446445</td>\n",
       "      <td>9.569664e+09</td>\n",
       "      <td>...</td>\n",
       "      <td>78.208997</td>\n",
       "      <td>78.537962</td>\n",
       "      <td>82.108443</td>\n",
       "      <td>83.231912</td>\n",
       "      <td>85.032543</td>\n",
       "      <td>86.502641</td>\n",
       "      <td>87.927498</td>\n",
       "      <td>91.410782</td>\n",
       "      <td>94.654844</td>\n",
       "      <td>94.562525</td>\n",
       "    </tr>\n",
       "  </tbody>\n",
       "</table>\n",
       "<p>1 rows × 97 columns</p>\n",
       "</div>"
      ],
      "text/plain": [
       "                                       NIPTS  NIPTS_1000  NIPTS_2000  \\\n",
       "staff_id                                                               \n",
       "Gengde electronic equipment factory-0    9.0        19.0        16.0   \n",
       "\n",
       "                                       NIPTS_3000  NIPTS_4000  NIPTS_6000  \\\n",
       "staff_id                                                                    \n",
       "Gengde electronic equipment factory-0        10.0         9.0         8.0   \n",
       "\n",
       "                                             Leq       LAeq       LCeq  \\\n",
       "staff_id                                                                 \n",
       "Gengde electronic equipment factory-0  99.808967  97.332718  96.446445   \n",
       "\n",
       "                                                Ieq  ...  SPL_16000_geomean  \\\n",
       "staff_id                                             ...                      \n",
       "Gengde electronic equipment factory-0  9.569664e+09  ...          78.208997   \n",
       "\n",
       "                                          Leq_63    Leq_125    Leq_250  \\\n",
       "staff_id                                                                 \n",
       "Gengde electronic equipment factory-0  78.537962  82.108443  83.231912   \n",
       "\n",
       "                                         Leq_500   Leq_1000   Leq_2000  \\\n",
       "staff_id                                                                 \n",
       "Gengde electronic equipment factory-0  85.032543  86.502641  87.927498   \n",
       "\n",
       "                                        Leq_4000   Leq_8000  Leq_16000  \n",
       "staff_id                                                                \n",
       "Gengde electronic equipment factory-0  91.410782  94.654844  94.562525  \n",
       "\n",
       "[1 rows x 97 columns]"
      ]
     },
     "execution_count": 2,
     "metadata": {},
     "output_type": "execute_result"
    }
   ],
   "source": [
    "df = pd.read_csv(\"./results/extract_df.csv\", header=0, index_col=\"staff_id\")\n",
    "df.head(1)"
   ]
  },
  {
   "cell_type": "code",
   "execution_count": 3,
   "metadata": {},
   "outputs": [
    {
     "data": {
      "image/png": "[encoded data removed]",
      "text/plain": [
       "<Figure size 640x480 with 2 Axes>"
      ]
     },
     "metadata": {},
     "output_type": "display_data"
    }
   ],
   "source": [
    "corr_matrix = df.corr()\n",
    "sns.heatmap(corr_matrix,annot = False,vmax = 1,square = True,cmap = \"Reds\")\n",
    "plt.show()"
   ]
  },
  {
   "cell_type": "code",
   "execution_count": 8,
   "metadata": {},
   "outputs": [
    {
     "name": "stderr",
     "output_type": "stream",
     "text": [
      "\u001b[32m2024-01-08 09:58:06.211\u001b[0m | \u001b[1mINFO    \u001b[0m | \u001b[36m__main__\u001b[0m:\u001b[36m<module>\u001b[0m:\u001b[36m14\u001b[0m - \u001b[1m{'C': 1.0, 'cache_size': 200, 'coef0': 0.0, 'degree': 3, 'epsilon': 0.1, 'gamma': 'scale', 'kernel': 'rbf', 'max_iter': -1, 'shrinking': True, 'tol': 0.001, 'verbose': False}\u001b[0m\n"
     ]
    }
   ],
   "source": [
    "label_columns = seq(df.columns).filter(lambda x: x.startswith(\"NIPTS\")).list()\n",
    "X = df.drop(label_columns, axis=1)\n",
    "y = df.NIPTS\n",
    "\n",
    "train_x, test_x, train_y, test_y = train_test_split(X,y,test_size=0.3,random_state=42)\n",
    "\n",
    "svm_model = SVR()\n",
    "\n",
    "logger.info(SVR().get_params())\n",
    "\n",
    "params = [\n",
    "    {\"kernel\": [\"linear\"], \"C\": [1, 10, 100, 1000]},\n",
    "    {\"kernel\": [\"poly\"], \"C\": [1], \"degree\":[2, 3]},\n",
    "    {\"kernel\": [\"rbf\"], \"C\": [1, 10, 100, 1000], \"gamma\": [1, 0.1, 0.01, 0.001]}\n",
    "]\n",
    "\n",
    "best_model = GridSearchCV(svm_model, param_grid=params, cv=5, scoring=\"neg_mean_absolute_error\")\n",
    "best_model.fit(train_x, train_y)\n",
    "\n",
    "logger.info(best_model.best_params_)\n",
    "logger.info(best_model.best_estimator_)\n",
    "logger.info(best_model.cv_results_)"
   ]
  },
  {
   "cell_type": "code",
   "execution_count": 51,
   "metadata": {},
   "outputs": [],
   "source": [
    "def RF_poly(df, poly=1):\n",
    "    X = df.drop(\"NIPTS\", axis=1)\n",
    "    y = df.NIPTS\n",
    "\n",
    "    poly = PolynomialFeatures(degree=poly, include_bias=False)\n",
    "    X = poly.fit_transform(X)\n",
    "\n",
    "    train_x, test_x, train_y, test_y = train_test_split(X,y,test_size=0.3,random_state=42)\n",
    "\n",
    "    tree_model = RandomForestRegressor()\n",
    "    tree_model.fit(train_x, train_y)\n",
    "\n",
    "    y_predict = tree_model.predict(test_x)\n",
    "    rmse = mean_absolute_error(test_y, y_predict)\n",
    "    logger.info(f\"RMSE={rmse}\")\n",
    "\n",
    "    importances = tree_model.feature_importances_\n",
    "    indices = np.argsort(importances)\n",
    "\n",
    "    fig, ax = plt.subplots()\n",
    "    ax.barh(range(len(importances)), importances[indices])\n",
    "    ax.set_yticks(range(len(importances)))\n",
    "    _ = ax.set_yticklabels(np.array(poly.get_feature_names_out())[indices])\n",
    "    logger.info(\"\\n\".join(np.array(poly.get_feature_names_out())[indices]))\n",
    "    \n",
    "    plt.show()"
   ]
  },
  {
   "cell_type": "markdown",
   "metadata": {},
   "source": [
    "# Feature filter"
   ]
  },
  {
   "cell_type": "code",
   "execution_count": 27,
   "metadata": {},
   "outputs": [
    {
     "name": "stdout",
     "output_type": "stream",
     "text": [
      "0:\tlearn: 11.8173396\ttotal: 62.9ms\tremaining: 6.22s\n",
      "50:\tlearn: 7.1409977\ttotal: 2.89s\tremaining: 2.78s\n"
     ]
    },
    {
     "name": "stderr",
     "output_type": "stream",
     "text": [
      "\u001b[32m2024-01-08 15:14:35.816\u001b[0m | \u001b[1mINFO    \u001b[0m | \u001b[36mcomparasion_between_AC\u001b[0m:\u001b[36mget_importance_from_regressor\u001b[0m:\u001b[36m172\u001b[0m - \u001b[1mALL feature for model NIPTS: MAE = 9.3823\u001b[0m\n"
     ]
    },
    {
     "name": "stdout",
     "output_type": "stream",
     "text": [
      "99:\tlearn: 4.8526091\ttotal: 5.56s\tremaining: 0us\n",
      "LAeq_adjust_segment_ari_A+A:3.710485383113796\n",
      "LCeq_adjust_segment_ari_C+n:3.400449781248654\n",
      "LCeq_adjust_segment_ari_C+C:3.177387126027733\n",
      "SPL_16000_median:2.5687404925089883\n",
      "FK_16000_median:2.3616404622632015\n",
      "SPL_8000_median:2.33818048152786\n",
      "FK_16000_arimean:2.184027743606621\n",
      "FK_16000_geomean:2.0852315255873943\n",
      "SPL_4000_median:2.0253852290193537\n",
      "FK_125_median:1.8787959804103738\n",
      "Leq_63:1.8587142065409712\n",
      "log-C_kurtosis_geomean:1.830581753094351\n",
      "LAeq_adjust_segment_ari_A+n:1.8268396490445828\n",
      "FK_63_geomean:1.7898772643013774\n",
      "FK_8000_arimean:1.7018760870845082\n",
      "kurtosis_geomean:1.698747252944823\n",
      "IAeq:1.6179286246263767\n",
      "Leq_4000:1.6065873026725053\n",
      "max_Peak_SPL_dB:1.581741553346413\n",
      "FK_63_median:1.5229253937024483\n",
      "LAeq_adjust_total_ari_A+n:1.4680654868662255\n",
      "Leq_2000:1.4562252316103188\n",
      "log-A_kurtosis_geomean:1.3527658941651772\n",
      "SPL_16000_arimean:1.3492094879280556\n",
      "A_kurtosis_geomean:1.3285758026411507\n",
      "SPL_16000_geomean:1.2747150939050507\n",
      "FK_125_arimean:1.2120807727347078\n",
      "log-kurtosis_geomean:1.2084467256110818\n",
      "backwards-kurtosis_geomean:1.2052460382534316\n",
      "FK_2000_arimean:1.1869196385918719\n",
      "FK_125_geomean:1.1716952588895475\n",
      "Leq_500:1.1453198868601324\n",
      "SPL_2000_median:1.1203055745912491\n",
      "FK_500_geomean:1.109675183775207\n",
      "FK_250_arimean:1.074578059957713\n",
      "Leq_250:1.0728990595950032\n",
      "LCeq_adjust_total_geo_C+n:1.051156172450485\n",
      "LCeq_adjust_total_ari_C+C:1.041161236168008\n",
      "SPL_1000_median:1.036525138667021\n",
      "LCeq_adjust_total_ari_C+n:1.0194080656175721\n",
      "FK_2000_geomean:1.0058530573305764\n",
      "FK_8000_median:0.9892172966528712\n",
      "FK_63_arimean:0.9880053394563983\n",
      "FK_1000_median:0.9703032671227177\n",
      "LAeq_adjust_total_geo_A+n:0.9586664177103139\n",
      "FK_2000_median:0.9389831685525862\n",
      "FK_4000_arimean:0.8886632945535003\n",
      "Leq:0.8802995458637989\n",
      "SPL_8000_arimean:0.8757718242384747\n",
      "LAeq_adjust_total_geo_A+A:0.8668053554458027\n",
      "LAeq_adjust_total_ari_A+A:0.8622335271081124\n",
      "LAeq:0.8554474032034496\n",
      "SPL_2000_geomean:0.8448266573963696\n",
      "LCeq_adjust_total_geo_C+C:0.8407934604053228\n",
      "SPL_4000_arimean:0.8338068476829119\n",
      "Leq_1000:0.8193844536773968\n",
      "LCeq:0.8187681221624317\n",
      "Ieq:0.8151699561217688\n",
      "Leq_8000:0.8064266300621411\n",
      "FK_500_arimean:0.7365840452154386\n",
      "Leq_16000:0.7151258589939734\n",
      "FK_4000_geomean:0.7138776008491216\n",
      "FK_4000_median:0.7127117460741522\n",
      "SPL_63_geomean:0.696782844286197\n",
      "SPL_1000_arimean:0.6837568959826252\n",
      "SPL_8000_geomean:0.6813160748683176\n",
      "SPL_500_median:0.664418833786588\n",
      "FK_8000_geomean:0.6544572463334252\n",
      "SPL_500_arimean:0.6486159127240075\n",
      "FK_1000_arimean:0.6421541125539582\n",
      "SPL_250_median:0.6296425671305892\n",
      "FK_1000_geomean:0.6074333226431858\n",
      "FK_500_median:0.5965096130568613\n",
      "SPL_2000_arimean:0.5792194935223659\n",
      "FK_250_geomean:0.5755521901046309\n",
      "FK_250_median:0.4929550582332672\n",
      "SPL_125_geomean:0.48026333896620815\n",
      "SPL_250_arimean:0.46794933859624976\n",
      "SPL_1000_geomean:0.4627153052609272\n",
      "SPL_250_geomean:0.4529545293346478\n",
      "SPL_125_median:0.4524673298051716\n",
      "backwards-C_kurtosis_geomean:0.4367355978137937\n",
      "ICeq:0.4173007508978929\n",
      "SPL_63_median:0.36647356269932174\n",
      "SPL_63_arimean:0.35651352760359667\n",
      "SPL_500_geomean:0.3417727913850367\n",
      "SPL_4000_geomean:0.33242963907117606\n",
      "C_kurtosis_geomean:0.31289401502936814\n",
      "Leq_125:0.30182401401030534\n",
      "backwards-A_kurtosis_geomean:0.16743992803960403\n",
      "SPL_125_arimean:0.10861018882965769\n"
     ]
    }
   ],
   "source": [
    "label_columns = seq(df.columns).filter(lambda x: x.startswith(\"NIPTS\")).list()\n",
    "X = df.drop(label_columns, axis=1).copy()\n",
    "y = df.NIPTS\n",
    "\n",
    "model, importances_res = get_importance_from_regressor(\n",
    "                X=X,\n",
    "                y=y,\n",
    "                catboost_regressor_params=catboost_regressor_params,\n",
    "                poly_degree=1)\n",
    "importances = seq(importances_res.items()).sorted(lambda x: x[1], reverse=True).dict()\n",
    "for k, v in importances.items():\n",
    "    print(f\"{k}:{v}\")\n"
   ]
  },
  {
   "cell_type": "code",
   "execution_count": 45,
   "metadata": {},
   "outputs": [
    {
     "name": "stdout",
     "output_type": "stream",
     "text": [
      "0:\tlearn: 11.8267989\ttotal: 12.3ms\tremaining: 1.21s\n",
      "50:\tlearn: 8.4310679\ttotal: 446ms\tremaining: 429ms\n"
     ]
    },
    {
     "name": "stderr",
     "output_type": "stream",
     "text": [
      "\u001b[32m2024-01-08 15:53:43.035\u001b[0m | \u001b[1mINFO    \u001b[0m | \u001b[36mcomparasion_between_AC\u001b[0m:\u001b[36mget_importance_from_regressor\u001b[0m:\u001b[36m172\u001b[0m - \u001b[1mALL feature for model NIPTS: MAE = 9.8049\u001b[0m\n"
     ]
    },
    {
     "name": "stdout",
     "output_type": "stream",
     "text": [
      "99:\tlearn: 6.8018010\ttotal: 877ms\tremaining: 0us\n",
      "Leq:15.053366995494095\n",
      "LAeq:13.63313912772112\n",
      "LAeq_adjust_total_geo_A+A:12.102997310500417\n",
      "LCeq_adjust_segment_ari_C+C:11.870338756540553\n",
      "LAeq_adjust_segment_ari_A+A:11.421387602713652\n",
      "LAeq_adjust_total_ari_A+A:10.471868080005665\n",
      "LCeq_adjust_total_geo_C+C:9.561375704939053\n",
      "LCeq:9.34834577893396\n",
      "LCeq_adjust_total_ari_C+C:6.537180643151497\n"
     ]
    }
   ],
   "source": [
    "label_columns = seq(df.columns).filter(lambda x: x.startswith(\"NIPTS\")).list()\n",
    "X = df[[\n",
    "    \"LAeq\",\n",
    "    \"LCeq\",\n",
    "    \"Leq\",\n",
    "    \"LAeq_adjust_segment_ari_A+A\", \n",
    "    \"LCeq_adjust_segment_ari_C+C\", \n",
    "    \"LAeq_adjust_total_ari_A+A\",\n",
    "    \"LCeq_adjust_total_ari_C+C\",\n",
    "    \"LAeq_adjust_total_geo_A+A\",\n",
    "    \"LCeq_adjust_total_geo_C+C\"\n",
    "]]\n",
    "y = df.NIPTS\n",
    "\n",
    "model, importances_res = get_importance_from_regressor(\n",
    "    X=X,\n",
    "    y=y,\n",
    "    catboost_regressor_params=catboost_regressor_params,\n",
    "    poly_degree=1)\n",
    "importances = seq(importances_res.items()).sorted(lambda x: x[1],\n",
    "                                                  reverse=True).dict()\n",
    "for k, v in importances.items():\n",
    "    print(f\"{k}:{v}\")"
   ]
  },
  {
   "cell_type": "code",
   "execution_count": 44,
   "metadata": {},
   "outputs": [
    {
     "name": "stdout",
     "output_type": "stream",
     "text": [
      "0:\tlearn: 11.8436526\ttotal: 19.1ms\tremaining: 1.89s\n",
      "50:\tlearn: 9.2443761\ttotal: 885ms\tremaining: 850ms\n"
     ]
    },
    {
     "name": "stderr",
     "output_type": "stream",
     "text": [
      "\u001b[32m2024-01-08 15:49:51.969\u001b[0m | \u001b[1mINFO    \u001b[0m | \u001b[36mcomparasion_between_AC\u001b[0m:\u001b[36mget_importance_from_regressor\u001b[0m:\u001b[36m172\u001b[0m - \u001b[1mALL feature for model NIPTS: MAE = 9.8286\u001b[0m\n"
     ]
    },
    {
     "name": "stdout",
     "output_type": "stream",
     "text": [
      "99:\tlearn: 7.8657222\ttotal: 1.69s\tremaining: 0us\n",
      "LCeq_adjust_total_ari_C+C LCeq_adjust_total_geo_C+C:7.097178424714001\n",
      "LAeq_adjust_segment_ari_A+A LAeq_adjust_total_geo_A+A:6.967058418100945\n",
      "LCeq_adjust_total_geo_C+C:6.722825231195411\n",
      "LCeq_adjust_segment_ari_C+C:6.687587153746939\n",
      "LAeq_adjust_total_geo_A+A:6.588515519686412\n",
      "LAeq_adjust_total_ari_A+A LAeq_adjust_total_geo_A+A:6.582430240409285\n",
      "LAeq_adjust_total_ari_A+A:5.117678337325416\n",
      "LAeq_adjust_segment_ari_A+A LCeq_adjust_total_geo_C+C:4.7770107945724565\n",
      "LAeq_adjust_total_ari_A+A LCeq_adjust_total_geo_C+C:4.611202040372342\n",
      "LCeq_adjust_total_ari_C+C:4.455850232106749\n",
      "LCeq_adjust_segment_ari_C+C LAeq_adjust_total_ari_A+A:4.396730606642534\n",
      "LCeq_adjust_total_ari_C+C LAeq_adjust_total_geo_A+A:4.216378362814574\n",
      "LCeq_adjust_segment_ari_C+C LAeq_adjust_total_geo_A+A:4.209884325166429\n",
      "LAeq_adjust_total_geo_A+A LCeq_adjust_total_geo_C+C:4.160159312876207\n",
      "LAeq_adjust_segment_ari_A+A:4.064360871336292\n",
      "LAeq_adjust_segment_ari_A+A LCeq_adjust_total_ari_C+C:3.6073657840703026\n",
      "LAeq_adjust_segment_ari_A+A LCeq_adjust_segment_ari_C+C:3.563777818858005\n",
      "LCeq_adjust_segment_ari_C+C LCeq_adjust_total_ari_C+C:3.3195288461665133\n",
      "LCeq_adjust_segment_ari_C+C LCeq_adjust_total_geo_C+C:3.2572539917191783\n",
      "LAeq_adjust_total_ari_A+A LCeq_adjust_total_ari_C+C:3.215358208575439\n",
      "LAeq_adjust_segment_ari_A+A LAeq_adjust_total_ari_A+A:2.381865479544559\n"
     ]
    }
   ],
   "source": [
    "X = df[[\n",
    "    \"LAeq_adjust_segment_ari_A+A\", \n",
    "    \"LCeq_adjust_segment_ari_C+C\", \n",
    "    \"LAeq_adjust_total_ari_A+A\",\n",
    "    \"LCeq_adjust_total_ari_C+C\",\n",
    "    \"LAeq_adjust_total_geo_A+A\",\n",
    "    \"LCeq_adjust_total_geo_C+C\"\n",
    "]]\n",
    "y = df.NIPTS\n",
    "\n",
    "model, importances_res = get_importance_from_regressor(\n",
    "    X=X,\n",
    "    y=y,\n",
    "    catboost_regressor_params=catboost_regressor_params,\n",
    "    poly_degree=2)\n",
    "importances = seq(importances_res.items()).sorted(lambda x: x[1],\n",
    "                                                  reverse=True).dict()\n",
    "for k, v in importances.items():\n",
    "    print(f\"{k}:{v}\")"
   ]
  },
  {
   "cell_type": "code",
   "execution_count": null,
   "metadata": {},
   "outputs": [],
   "source": [
    "feature_filter_1st = seq(importances.items()).filter(lambda x: x[1]>1).map(lambda x: x[0]).list()\n",
    "X_1st = X[feature_filter_1st]\n",
    "model, importances_res = get_importance_from_regressor(\n",
    "                X=X_1st,\n",
    "                y=y,\n",
    "                catboost_regressor_params=catboost_regressor_params,\n",
    "                poly_degree=1)\n",
    "importances_1st = seq(importances_res.items()).sorted(lambda x: x[1], reverse=True).dict()\n",
    "for k, v in importances_1st.items():\n",
    "    print(f\"{k}:{v}\")"
   ]
  },
  {
   "cell_type": "markdown",
   "metadata": {},
   "source": [
    "# Feature accumulation"
   ]
  },
  {
   "cell_type": "code",
   "execution_count": 26,
   "metadata": {},
   "outputs": [],
   "source": [
    "extract_df = pd.read_csv(\"./results/extract_df.csv\", header=0, index_col=\"staff_id\")\n",
    "model_path = Path(\"./models/\")\n",
    "initial_features = [\n",
    "            \"LAeq\", \"LCeq\", \"Leq\", \"LAeq_adjust_segment_ari_A+A\",\n",
    "            \"LCeq_adjust_segment_ari_C+C\", \"LAeq_adjust_total_ari_A+A\",\n",
    "            \"LCeq_adjust_total_ari_C+C\", \"LAeq_adjust_total_geo_A+A\",\n",
    "            \"LCeq_adjust_total_geo_C+C\"\n",
    "        ]\n"
   ]
  },
  {
   "cell_type": "markdown",
   "metadata": {},
   "source": [
    "## Sequential search"
   ]
  },
  {
   "cell_type": "code",
   "execution_count": null,
   "metadata": {},
   "outputs": [],
   "source": [
    "initial_features_search = [\n",
    "            \"LAeq\", \"LCeq\", \"Leq\", \"LAeq_adjust_segment_ari_A+A\",\n",
    "            \"LCeq_adjust_segment_ari_C+C\", \"LAeq_adjust_total_ari_A+A\",\n",
    "            \"LCeq_adjust_total_ari_C+C\", \"LAeq_adjust_total_geo_A+A\",\n",
    "            \"LCeq_adjust_total_geo_C+C\"\n",
    "        ]\n",
    "MAE_scores = {}\n",
    "X = extract_df[initial_features_search]\n",
    "y = extract_df[\"NIPTS\"]\n",
    "model, MAE, importances_res = get_importance_from_regressor(\n",
    "    X=X,\n",
    "    y=y,\n",
    "    catboost_regressor_params=catboost_regressor_params,\n",
    "    poly_degree=1)\n",
    "# pickle.dump(\n",
    "#     model,\n",
    "#     open(model_path / f\"regression_model_for_ini_features.pkl\", \"wb\"))\n",
    "MAE_scores[\"initial\"] = MAE\n",
    "\n",
    "append_features = seq(\n",
    "    extract_df.columns).filter(lambda x: not x.startswith(\n",
    "        \"NIPTS\")).filter(lambda x: not x in initial_features_search).list()\n",
    "for append_feature in append_features:\n",
    "    initial_features_search.append(append_feature)\n",
    "    X = extract_df[initial_features_search]\n",
    "    model, MAE, importances_res = get_importance_from_regressor(\n",
    "        X=X,\n",
    "        y=y,\n",
    "        catboost_regressor_params=catboost_regressor_params,\n",
    "        poly_degree=1)\n",
    "    # pickle.dump(\n",
    "    #     model,\n",
    "    #     open(\n",
    "    #         model_path /\n",
    "    #         f\"regression_model_for_add-{append_feature}.pkl\", \"wb\"))\n",
    "    MAE_scores[f\"add-{append_feature}\"] = MAE\n",
    "\n",
    "fig, ax = plt.subplots(1, figsize=(6.5,5))\n",
    "ax.plot(range(len(MAE_scores)), MAE_scores.values(), marker=\"o\")\n",
    "plt.show()"
   ]
  },
  {
   "cell_type": "markdown",
   "metadata": {},
   "source": [
    "### Best Model"
   ]
  },
  {
   "cell_type": "code",
   "execution_count": 12,
   "metadata": {},
   "outputs": [
    {
     "data": {
      "text/plain": [
       "[('add-FK_500_median', 9.10418201272268),\n",
       " ('add-Leq_500', 9.17333506009425),\n",
       " ('add-Leq_63', 9.236539500216852),\n",
       " ('add-FK_2000_median', 9.291674651283499),\n",
       " ('add-SPL_250_median', 9.29577120640995)]"
      ]
     },
     "execution_count": 12,
     "metadata": {},
     "output_type": "execute_result"
    }
   ],
   "source": [
    "seq(MAE_scores.items()).sorted(lambda x: x[1]).list()[:5]"
   ]
  },
  {
   "cell_type": "code",
   "execution_count": 30,
   "metadata": {},
   "outputs": [
    {
     "name": "stdout",
     "output_type": "stream",
     "text": [
      "0:\tlearn: 11.8321442\ttotal: 53.3ms\tremaining: 5.27s\n",
      "50:\tlearn: 7.3812068\ttotal: 1.38s\tremaining: 1.33s\n"
     ]
    },
    {
     "name": "stderr",
     "output_type": "stream",
     "text": [
      "\u001b[32m2024-01-08 17:02:47.459\u001b[0m | \u001b[1mINFO    \u001b[0m | \u001b[36mcomparasion_between_AC\u001b[0m:\u001b[36mget_importance_from_regressor\u001b[0m:\u001b[36m174\u001b[0m - \u001b[1mALL feature for model NIPTS: MAE = 9.1042\u001b[0m\n"
     ]
    },
    {
     "name": "stdout",
     "output_type": "stream",
     "text": [
      "99:\tlearn: 5.2027028\ttotal: 2.63s\tremaining: 0us\n"
     ]
    }
   ],
   "source": [
    "useful_features = initial_features + append_features[:append_features.index(\"FK_500_median\")+1]\n",
    "X = extract_df[useful_features]\n",
    "y = extract_df[\"NIPTS\"]\n",
    "model, MAE, importances_res = get_importance_from_regressor(\n",
    "    X=X,\n",
    "    y=y,\n",
    "    catboost_regressor_params=catboost_regressor_params,\n",
    "    poly_degree=1)\n"
   ]
  },
  {
   "cell_type": "code",
   "execution_count": 21,
   "metadata": {},
   "outputs": [
    {
     "data": {
      "text/plain": [
       "39"
      ]
     },
     "execution_count": 21,
     "metadata": {},
     "output_type": "execute_result"
    }
   ],
   "source": [
    "len(model.feature_importances_)"
   ]
  },
  {
   "cell_type": "markdown",
   "metadata": {},
   "source": [
    "## Random search"
   ]
  },
  {
   "cell_type": "code",
   "execution_count": 43,
   "metadata": {},
   "outputs": [
    {
     "data": {
      "text/plain": [
       "['FK_8000_geomean']"
      ]
     },
     "execution_count": 43,
     "metadata": {},
     "output_type": "execute_result"
    }
   ],
   "source": [
    "random.sample(append_features,k=1)"
   ]
  },
  {
   "cell_type": "code",
   "execution_count": 52,
   "metadata": {},
   "outputs": [
    {
     "name": "stdout",
     "output_type": "stream",
     "text": [
      "0:\tlearn: 11.8267989\ttotal: 16ms\tremaining: 1.58s\n",
      "50:\tlearn: 8.4310679\ttotal: 444ms\tremaining: 427ms\n"
     ]
    },
    {
     "name": "stderr",
     "output_type": "stream",
     "text": [
      "\u001b[32m2024-01-08 17:39:50.934\u001b[0m | \u001b[1mINFO    \u001b[0m | \u001b[36mcomparasion_between_AC\u001b[0m:\u001b[36mget_importance_from_regressor\u001b[0m:\u001b[36m174\u001b[0m - \u001b[1mALL feature for model NIPTS: MAE = 9.8049\u001b[0m\n"
     ]
    },
    {
     "name": "stdout",
     "output_type": "stream",
     "text": [
      "99:\tlearn: 6.8018010\ttotal: 847ms\tremaining: 0us\n",
      "0:\tlearn: 11.8295643\ttotal: 13.8ms\tremaining: 1.37s\n",
      "50:\tlearn: 8.5308718\ttotal: 466ms\tremaining: 448ms\n"
     ]
    },
    {
     "name": "stderr",
     "output_type": "stream",
     "text": [
      "\u001b[32m2024-01-08 17:39:51.966\u001b[0m | \u001b[1mINFO    \u001b[0m | \u001b[36mcomparasion_between_AC\u001b[0m:\u001b[36mget_importance_from_regressor\u001b[0m:\u001b[36m174\u001b[0m - \u001b[1mALL feature for model NIPTS: MAE = 9.4028\u001b[0m\n"
     ]
    },
    {
     "name": "stdout",
     "output_type": "stream",
     "text": [
      "99:\tlearn: 6.7826024\ttotal: 912ms\tremaining: 0us\n",
      "0:\tlearn: 11.8173876\ttotal: 13.6ms\tremaining: 1.35s\n",
      "50:\tlearn: 8.1993536\ttotal: 479ms\tremaining: 460ms\n"
     ]
    },
    {
     "name": "stderr",
     "output_type": "stream",
     "text": [
      "\u001b[32m2024-01-08 17:39:53.026\u001b[0m | \u001b[1mINFO    \u001b[0m | \u001b[36mcomparasion_between_AC\u001b[0m:\u001b[36mget_importance_from_regressor\u001b[0m:\u001b[36m174\u001b[0m - \u001b[1mALL feature for model NIPTS: MAE = 9.7376\u001b[0m\n"
     ]
    },
    {
     "name": "stdout",
     "output_type": "stream",
     "text": [
      "99:\tlearn: 6.4610942\ttotal: 939ms\tremaining: 0us\n",
      "0:\tlearn: 11.8272563\ttotal: 15.6ms\tremaining: 1.55s\n",
      "50:\tlearn: 8.2508815\ttotal: 520ms\tremaining: 500ms\n"
     ]
    },
    {
     "name": "stderr",
     "output_type": "stream",
     "text": [
      "\u001b[32m2024-01-08 17:39:54.144\u001b[0m | \u001b[1mINFO    \u001b[0m | \u001b[36mcomparasion_between_AC\u001b[0m:\u001b[36mget_importance_from_regressor\u001b[0m:\u001b[36m174\u001b[0m - \u001b[1mALL feature for model NIPTS: MAE = 9.4551\u001b[0m\n"
     ]
    },
    {
     "name": "stdout",
     "output_type": "stream",
     "text": [
      "99:\tlearn: 6.4860257\ttotal: 1000ms\tremaining: 0us\n",
      "0:\tlearn: 11.8048379\ttotal: 14ms\tremaining: 1.39s\n",
      "50:\tlearn: 8.1085400\ttotal: 556ms\tremaining: 534ms\n"
     ]
    },
    {
     "name": "stderr",
     "output_type": "stream",
     "text": [
      "\u001b[32m2024-01-08 17:39:55.301\u001b[0m | \u001b[1mINFO    \u001b[0m | \u001b[36mcomparasion_between_AC\u001b[0m:\u001b[36mget_importance_from_regressor\u001b[0m:\u001b[36m174\u001b[0m - \u001b[1mALL feature for model NIPTS: MAE = 9.5058\u001b[0m\n"
     ]
    },
    {
     "name": "stdout",
     "output_type": "stream",
     "text": [
      "99:\tlearn: 6.3249706\ttotal: 1.04s\tremaining: 0us\n",
      "0:\tlearn: 11.8415991\ttotal: 16.5ms\tremaining: 1.63s\n",
      "50:\tlearn: 8.0817656\ttotal: 582ms\tremaining: 559ms\n"
     ]
    },
    {
     "name": "stderr",
     "output_type": "stream",
     "text": [
      "\u001b[32m2024-01-08 17:39:56.536\u001b[0m | \u001b[1mINFO    \u001b[0m | \u001b[36mcomparasion_between_AC\u001b[0m:\u001b[36mget_importance_from_regressor\u001b[0m:\u001b[36m174\u001b[0m - \u001b[1mALL feature for model NIPTS: MAE = 9.263\u001b[0m\n"
     ]
    },
    {
     "name": "stdout",
     "output_type": "stream",
     "text": [
      "99:\tlearn: 6.2711043\ttotal: 1.11s\tremaining: 0us\n",
      "0:\tlearn: 11.8135655\ttotal: 15.5ms\tremaining: 1.53s\n",
      "50:\tlearn: 7.7431622\ttotal: 648ms\tremaining: 623ms\n"
     ]
    },
    {
     "name": "stderr",
     "output_type": "stream",
     "text": [
      "\u001b[32m2024-01-08 17:39:57.912\u001b[0m | \u001b[1mINFO    \u001b[0m | \u001b[36mcomparasion_between_AC\u001b[0m:\u001b[36mget_importance_from_regressor\u001b[0m:\u001b[36m174\u001b[0m - \u001b[1mALL feature for model NIPTS: MAE = 9.6745\u001b[0m\n"
     ]
    },
    {
     "name": "stdout",
     "output_type": "stream",
     "text": [
      "99:\tlearn: 5.8104888\ttotal: 1.25s\tremaining: 0us\n",
      "0:\tlearn: 11.7980133\ttotal: 16.8ms\tremaining: 1.66s\n",
      "50:\tlearn: 7.8734196\ttotal: 627ms\tremaining: 602ms\n"
     ]
    },
    {
     "name": "stderr",
     "output_type": "stream",
     "text": [
      "\u001b[32m2024-01-08 17:39:59.270\u001b[0m | \u001b[1mINFO    \u001b[0m | \u001b[36mcomparasion_between_AC\u001b[0m:\u001b[36mget_importance_from_regressor\u001b[0m:\u001b[36m174\u001b[0m - \u001b[1mALL feature for model NIPTS: MAE = 9.5054\u001b[0m\n"
     ]
    },
    {
     "name": "stdout",
     "output_type": "stream",
     "text": [
      "99:\tlearn: 5.9760298\ttotal: 1.23s\tremaining: 0us\n",
      "0:\tlearn: 11.7801057\ttotal: 18.3ms\tremaining: 1.81s\n",
      "50:\tlearn: 7.5832024\ttotal: 671ms\tremaining: 644ms\n"
     ]
    },
    {
     "name": "stderr",
     "output_type": "stream",
     "text": [
      "\u001b[32m2024-01-08 17:40:00.671\u001b[0m | \u001b[1mINFO    \u001b[0m | \u001b[36mcomparasion_between_AC\u001b[0m:\u001b[36mget_importance_from_regressor\u001b[0m:\u001b[36m174\u001b[0m - \u001b[1mALL feature for model NIPTS: MAE = 9.7723\u001b[0m\n"
     ]
    },
    {
     "name": "stdout",
     "output_type": "stream",
     "text": [
      "99:\tlearn: 5.7294813\ttotal: 1.28s\tremaining: 0us\n",
      "0:\tlearn: 11.8058722\ttotal: 21.2ms\tremaining: 2.1s\n",
      "50:\tlearn: 7.5758978\ttotal: 716ms\tremaining: 688ms\n"
     ]
    },
    {
     "name": "stderr",
     "output_type": "stream",
     "text": [
      "\u001b[32m2024-01-08 17:40:02.138\u001b[0m | \u001b[1mINFO    \u001b[0m | \u001b[36mcomparasion_between_AC\u001b[0m:\u001b[36mget_importance_from_regressor\u001b[0m:\u001b[36m174\u001b[0m - \u001b[1mALL feature for model NIPTS: MAE = 9.6813\u001b[0m\n"
     ]
    },
    {
     "name": "stdout",
     "output_type": "stream",
     "text": [
      "99:\tlearn: 5.5654344\ttotal: 1.34s\tremaining: 0us\n",
      "0:\tlearn: 11.7810098\ttotal: 22.8ms\tremaining: 2.25s\n",
      "50:\tlearn: 7.6365309\ttotal: 787ms\tremaining: 756ms\n"
     ]
    },
    {
     "name": "stderr",
     "output_type": "stream",
     "text": [
      "\u001b[32m2024-01-08 17:40:03.713\u001b[0m | \u001b[1mINFO    \u001b[0m | \u001b[36mcomparasion_between_AC\u001b[0m:\u001b[36mget_importance_from_regressor\u001b[0m:\u001b[36m174\u001b[0m - \u001b[1mALL feature for model NIPTS: MAE = 9.482\u001b[0m\n"
     ]
    },
    {
     "name": "stdout",
     "output_type": "stream",
     "text": [
      "99:\tlearn: 5.7314730\ttotal: 1.45s\tremaining: 0us\n",
      "0:\tlearn: 11.7781905\ttotal: 21.1ms\tremaining: 2.09s\n",
      "50:\tlearn: 7.6491816\ttotal: 795ms\tremaining: 764ms\n"
     ]
    },
    {
     "name": "stderr",
     "output_type": "stream",
     "text": [
      "\u001b[32m2024-01-08 17:40:05.363\u001b[0m | \u001b[1mINFO    \u001b[0m | \u001b[36mcomparasion_between_AC\u001b[0m:\u001b[36mget_importance_from_regressor\u001b[0m:\u001b[36m174\u001b[0m - \u001b[1mALL feature for model NIPTS: MAE = 9.916\u001b[0m\n"
     ]
    },
    {
     "name": "stdout",
     "output_type": "stream",
     "text": [
      "99:\tlearn: 5.5213786\ttotal: 1.54s\tremaining: 0us\n",
      "0:\tlearn: 11.7867742\ttotal: 22.6ms\tremaining: 2.24s\n",
      "50:\tlearn: 7.7233186\ttotal: 890ms\tremaining: 855ms\n"
     ]
    },
    {
     "name": "stderr",
     "output_type": "stream",
     "text": [
      "\u001b[32m2024-01-08 17:40:07.207\u001b[0m | \u001b[1mINFO    \u001b[0m | \u001b[36mcomparasion_between_AC\u001b[0m:\u001b[36mget_importance_from_regressor\u001b[0m:\u001b[36m174\u001b[0m - \u001b[1mALL feature for model NIPTS: MAE = 9.8556\u001b[0m\n"
     ]
    },
    {
     "name": "stdout",
     "output_type": "stream",
     "text": [
      "99:\tlearn: 5.9059184\ttotal: 1.72s\tremaining: 0us\n",
      "0:\tlearn: 11.8029037\ttotal: 47.8ms\tremaining: 4.74s\n",
      "50:\tlearn: 7.5436391\ttotal: 957ms\tremaining: 919ms\n"
     ]
    },
    {
     "name": "stderr",
     "output_type": "stream",
     "text": [
      "\u001b[32m2024-01-08 17:40:09.116\u001b[0m | \u001b[1mINFO    \u001b[0m | \u001b[36mcomparasion_between_AC\u001b[0m:\u001b[36mget_importance_from_regressor\u001b[0m:\u001b[36m174\u001b[0m - \u001b[1mALL feature for model NIPTS: MAE = 9.684\u001b[0m\n"
     ]
    },
    {
     "name": "stdout",
     "output_type": "stream",
     "text": [
      "99:\tlearn: 5.5176523\ttotal: 1.78s\tremaining: 0us\n",
      "0:\tlearn: 11.7978799\ttotal: 24.5ms\tremaining: 2.43s\n",
      "50:\tlearn: 7.5069179\ttotal: 970ms\tremaining: 932ms\n"
     ]
    },
    {
     "name": "stderr",
     "output_type": "stream",
     "text": [
      "\u001b[32m2024-01-08 17:40:11.052\u001b[0m | \u001b[1mINFO    \u001b[0m | \u001b[36mcomparasion_between_AC\u001b[0m:\u001b[36mget_importance_from_regressor\u001b[0m:\u001b[36m174\u001b[0m - \u001b[1mALL feature for model NIPTS: MAE = 9.5981\u001b[0m\n"
     ]
    },
    {
     "name": "stdout",
     "output_type": "stream",
     "text": [
      "99:\tlearn: 5.5708660\ttotal: 1.81s\tremaining: 0us\n",
      "0:\tlearn: 11.7808997\ttotal: 23.9ms\tremaining: 2.36s\n",
      "50:\tlearn: 7.4619665\ttotal: 973ms\tremaining: 934ms\n"
     ]
    },
    {
     "name": "stderr",
     "output_type": "stream",
     "text": [
      "\u001b[32m2024-01-08 17:40:13.069\u001b[0m | \u001b[1mINFO    \u001b[0m | \u001b[36mcomparasion_between_AC\u001b[0m:\u001b[36mget_importance_from_regressor\u001b[0m:\u001b[36m174\u001b[0m - \u001b[1mALL feature for model NIPTS: MAE = 9.8925\u001b[0m\n"
     ]
    },
    {
     "name": "stdout",
     "output_type": "stream",
     "text": [
      "99:\tlearn: 5.5623727\ttotal: 1.9s\tremaining: 0us\n",
      "0:\tlearn: 11.7842028\ttotal: 23.9ms\tremaining: 2.37s\n",
      "50:\tlearn: 7.4739725\ttotal: 1s\tremaining: 962ms\n"
     ]
    },
    {
     "name": "stderr",
     "output_type": "stream",
     "text": [
      "\u001b[32m2024-01-08 17:40:15.130\u001b[0m | \u001b[1mINFO    \u001b[0m | \u001b[36mcomparasion_between_AC\u001b[0m:\u001b[36mget_importance_from_regressor\u001b[0m:\u001b[36m174\u001b[0m - \u001b[1mALL feature for model NIPTS: MAE = 9.3989\u001b[0m\n"
     ]
    },
    {
     "name": "stdout",
     "output_type": "stream",
     "text": [
      "99:\tlearn: 5.5832833\ttotal: 1.94s\tremaining: 0us\n",
      "0:\tlearn: 11.7969906\ttotal: 29.6ms\tremaining: 2.93s\n",
      "50:\tlearn: 7.5575091\ttotal: 1.06s\tremaining: 1.02s\n"
     ]
    },
    {
     "name": "stderr",
     "output_type": "stream",
     "text": [
      "\u001b[32m2024-01-08 17:40:17.299\u001b[0m | \u001b[1mINFO    \u001b[0m | \u001b[36mcomparasion_between_AC\u001b[0m:\u001b[36mget_importance_from_regressor\u001b[0m:\u001b[36m174\u001b[0m - \u001b[1mALL feature for model NIPTS: MAE = 9.3385\u001b[0m\n"
     ]
    },
    {
     "name": "stdout",
     "output_type": "stream",
     "text": [
      "99:\tlearn: 5.4985797\ttotal: 2.05s\tremaining: 0us\n",
      "0:\tlearn: 11.7886469\ttotal: 26.2ms\tremaining: 2.59s\n",
      "50:\tlearn: 7.4325536\ttotal: 1.03s\tremaining: 992ms\n"
     ]
    },
    {
     "name": "stderr",
     "output_type": "stream",
     "text": [
      "\u001b[32m2024-01-08 17:40:19.448\u001b[0m | \u001b[1mINFO    \u001b[0m | \u001b[36mcomparasion_between_AC\u001b[0m:\u001b[36mget_importance_from_regressor\u001b[0m:\u001b[36m174\u001b[0m - \u001b[1mALL feature for model NIPTS: MAE = 9.6274\u001b[0m\n"
     ]
    },
    {
     "name": "stdout",
     "output_type": "stream",
     "text": [
      "99:\tlearn: 5.4087565\ttotal: 2.03s\tremaining: 0us\n",
      "0:\tlearn: 11.7928349\ttotal: 27.5ms\tremaining: 2.72s\n",
      "50:\tlearn: 7.5580664\ttotal: 1.19s\tremaining: 1.14s\n"
     ]
    },
    {
     "name": "stderr",
     "output_type": "stream",
     "text": [
      "\u001b[32m2024-01-08 17:40:21.773\u001b[0m | \u001b[1mINFO    \u001b[0m | \u001b[36mcomparasion_between_AC\u001b[0m:\u001b[36mget_importance_from_regressor\u001b[0m:\u001b[36m174\u001b[0m - \u001b[1mALL feature for model NIPTS: MAE = 9.3618\u001b[0m\n"
     ]
    },
    {
     "name": "stdout",
     "output_type": "stream",
     "text": [
      "99:\tlearn: 5.4573483\ttotal: 2.21s\tremaining: 0us\n",
      "0:\tlearn: 11.8036042\ttotal: 29.7ms\tremaining: 2.94s\n",
      "50:\tlearn: 7.4123611\ttotal: 1.12s\tremaining: 1.08s\n"
     ]
    },
    {
     "name": "stderr",
     "output_type": "stream",
     "text": [
      "\u001b[32m2024-01-08 17:40:24.049\u001b[0m | \u001b[1mINFO    \u001b[0m | \u001b[36mcomparasion_between_AC\u001b[0m:\u001b[36mget_importance_from_regressor\u001b[0m:\u001b[36m174\u001b[0m - \u001b[1mALL feature for model NIPTS: MAE = 9.7056\u001b[0m\n"
     ]
    },
    {
     "name": "stdout",
     "output_type": "stream",
     "text": [
      "99:\tlearn: 5.3918638\ttotal: 2.15s\tremaining: 0us\n",
      "0:\tlearn: 11.7878240\ttotal: 28.4ms\tremaining: 2.82s\n",
      "50:\tlearn: 7.4645742\ttotal: 1.18s\tremaining: 1.13s\n"
     ]
    },
    {
     "name": "stderr",
     "output_type": "stream",
     "text": [
      "\u001b[32m2024-01-08 17:40:26.390\u001b[0m | \u001b[1mINFO    \u001b[0m | \u001b[36mcomparasion_between_AC\u001b[0m:\u001b[36mget_importance_from_regressor\u001b[0m:\u001b[36m174\u001b[0m - \u001b[1mALL feature for model NIPTS: MAE = 9.6117\u001b[0m\n"
     ]
    },
    {
     "name": "stdout",
     "output_type": "stream",
     "text": [
      "99:\tlearn: 5.4017527\ttotal: 2.22s\tremaining: 0us\n",
      "0:\tlearn: 11.7850556\ttotal: 28.7ms\tremaining: 2.84s\n",
      "50:\tlearn: 7.4341612\ttotal: 1.14s\tremaining: 1.09s\n"
     ]
    },
    {
     "name": "stderr",
     "output_type": "stream",
     "text": [
      "\u001b[32m2024-01-08 17:40:28.725\u001b[0m | \u001b[1mINFO    \u001b[0m | \u001b[36mcomparasion_between_AC\u001b[0m:\u001b[36mget_importance_from_regressor\u001b[0m:\u001b[36m174\u001b[0m - \u001b[1mALL feature for model NIPTS: MAE = 9.4301\u001b[0m\n"
     ]
    },
    {
     "name": "stdout",
     "output_type": "stream",
     "text": [
      "99:\tlearn: 5.3790985\ttotal: 2.21s\tremaining: 0us\n",
      "0:\tlearn: 11.7826155\ttotal: 36ms\tremaining: 3.56s\n",
      "50:\tlearn: 7.4948008\ttotal: 1.19s\tremaining: 1.15s\n"
     ]
    },
    {
     "name": "stderr",
     "output_type": "stream",
     "text": [
      "\u001b[32m2024-01-08 17:40:31.116\u001b[0m | \u001b[1mINFO    \u001b[0m | \u001b[36mcomparasion_between_AC\u001b[0m:\u001b[36mget_importance_from_regressor\u001b[0m:\u001b[36m174\u001b[0m - \u001b[1mALL feature for model NIPTS: MAE = 9.4113\u001b[0m\n"
     ]
    },
    {
     "name": "stdout",
     "output_type": "stream",
     "text": [
      "99:\tlearn: 5.4319990\ttotal: 2.27s\tremaining: 0us\n",
      "0:\tlearn: 11.7932821\ttotal: 33.4ms\tremaining: 3.31s\n",
      "50:\tlearn: 7.6013146\ttotal: 1.17s\tremaining: 1.12s\n"
     ]
    },
    {
     "name": "stderr",
     "output_type": "stream",
     "text": [
      "\u001b[32m2024-01-08 17:40:33.576\u001b[0m | \u001b[1mINFO    \u001b[0m | \u001b[36mcomparasion_between_AC\u001b[0m:\u001b[36mget_importance_from_regressor\u001b[0m:\u001b[36m174\u001b[0m - \u001b[1mALL feature for model NIPTS: MAE = 9.3016\u001b[0m\n"
     ]
    },
    {
     "name": "stdout",
     "output_type": "stream",
     "text": [
      "99:\tlearn: 5.4734726\ttotal: 2.34s\tremaining: 0us\n",
      "0:\tlearn: 11.8025281\ttotal: 32.3ms\tremaining: 3.19s\n",
      "50:\tlearn: 7.4232638\ttotal: 1.32s\tremaining: 1.27s\n"
     ]
    },
    {
     "name": "stderr",
     "output_type": "stream",
     "text": [
      "\u001b[32m2024-01-08 17:40:36.185\u001b[0m | \u001b[1mINFO    \u001b[0m | \u001b[36mcomparasion_between_AC\u001b[0m:\u001b[36mget_importance_from_regressor\u001b[0m:\u001b[36m174\u001b[0m - \u001b[1mALL feature for model NIPTS: MAE = 9.7746\u001b[0m\n"
     ]
    },
    {
     "name": "stdout",
     "output_type": "stream",
     "text": [
      "99:\tlearn: 5.3739309\ttotal: 2.47s\tremaining: 0us\n",
      "0:\tlearn: 11.8066451\ttotal: 35ms\tremaining: 3.46s\n",
      "50:\tlearn: 7.4212227\ttotal: 1.31s\tremaining: 1.26s\n"
     ]
    },
    {
     "name": "stderr",
     "output_type": "stream",
     "text": [
      "\u001b[32m2024-01-08 17:40:38.760\u001b[0m | \u001b[1mINFO    \u001b[0m | \u001b[36mcomparasion_between_AC\u001b[0m:\u001b[36mget_importance_from_regressor\u001b[0m:\u001b[36m174\u001b[0m - \u001b[1mALL feature for model NIPTS: MAE = 9.4756\u001b[0m\n"
     ]
    },
    {
     "name": "stdout",
     "output_type": "stream",
     "text": [
      "99:\tlearn: 5.3938145\ttotal: 2.44s\tremaining: 0us\n",
      "0:\tlearn: 11.8086114\ttotal: 30.7ms\tremaining: 3.04s\n",
      "50:\tlearn: 7.3755731\ttotal: 1.33s\tremaining: 1.27s\n"
     ]
    },
    {
     "name": "stderr",
     "output_type": "stream",
     "text": [
      "\u001b[32m2024-01-08 17:40:41.419\u001b[0m | \u001b[1mINFO    \u001b[0m | \u001b[36mcomparasion_between_AC\u001b[0m:\u001b[36mget_importance_from_regressor\u001b[0m:\u001b[36m174\u001b[0m - \u001b[1mALL feature for model NIPTS: MAE = 9.6193\u001b[0m\n"
     ]
    },
    {
     "name": "stdout",
     "output_type": "stream",
     "text": [
      "99:\tlearn: 5.3390362\ttotal: 2.52s\tremaining: 0us\n",
      "0:\tlearn: 11.7855550\ttotal: 35.4ms\tremaining: 3.51s\n",
      "50:\tlearn: 7.2593775\ttotal: 1.36s\tremaining: 1.3s\n"
     ]
    },
    {
     "name": "stderr",
     "output_type": "stream",
     "text": [
      "\u001b[32m2024-01-08 17:40:44.169\u001b[0m | \u001b[1mINFO    \u001b[0m | \u001b[36mcomparasion_between_AC\u001b[0m:\u001b[36mget_importance_from_regressor\u001b[0m:\u001b[36m174\u001b[0m - \u001b[1mALL feature for model NIPTS: MAE = 9.3791\u001b[0m\n"
     ]
    },
    {
     "name": "stdout",
     "output_type": "stream",
     "text": [
      "99:\tlearn: 5.1963752\ttotal: 2.63s\tremaining: 0us\n",
      "0:\tlearn: 11.7847622\ttotal: 35.9ms\tremaining: 3.55s\n",
      "50:\tlearn: 7.4222164\ttotal: 1.42s\tremaining: 1.36s\n"
     ]
    },
    {
     "name": "stderr",
     "output_type": "stream",
     "text": [
      "\u001b[32m2024-01-08 17:40:46.971\u001b[0m | \u001b[1mINFO    \u001b[0m | \u001b[36mcomparasion_between_AC\u001b[0m:\u001b[36mget_importance_from_regressor\u001b[0m:\u001b[36m174\u001b[0m - \u001b[1mALL feature for model NIPTS: MAE = 9.5042\u001b[0m\n"
     ]
    },
    {
     "name": "stdout",
     "output_type": "stream",
     "text": [
      "99:\tlearn: 5.2788756\ttotal: 2.67s\tremaining: 0us\n",
      "0:\tlearn: 11.7904971\ttotal: 35.1ms\tremaining: 3.48s\n",
      "50:\tlearn: 7.3917667\ttotal: 1.41s\tremaining: 1.35s\n"
     ]
    },
    {
     "name": "stderr",
     "output_type": "stream",
     "text": [
      "\u001b[32m2024-01-08 17:40:49.812\u001b[0m | \u001b[1mINFO    \u001b[0m | \u001b[36mcomparasion_between_AC\u001b[0m:\u001b[36mget_importance_from_regressor\u001b[0m:\u001b[36m174\u001b[0m - \u001b[1mALL feature for model NIPTS: MAE = 9.6595\u001b[0m\n"
     ]
    },
    {
     "name": "stdout",
     "output_type": "stream",
     "text": [
      "99:\tlearn: 5.3087175\ttotal: 2.72s\tremaining: 0us\n",
      "0:\tlearn: 11.8002521\ttotal: 38.7ms\tremaining: 3.83s\n",
      "50:\tlearn: 7.3603027\ttotal: 1.44s\tremaining: 1.39s\n"
     ]
    },
    {
     "name": "stderr",
     "output_type": "stream",
     "text": [
      "\u001b[32m2024-01-08 17:40:52.697\u001b[0m | \u001b[1mINFO    \u001b[0m | \u001b[36mcomparasion_between_AC\u001b[0m:\u001b[36mget_importance_from_regressor\u001b[0m:\u001b[36m174\u001b[0m - \u001b[1mALL feature for model NIPTS: MAE = 9.4752\u001b[0m\n"
     ]
    },
    {
     "name": "stdout",
     "output_type": "stream",
     "text": [
      "99:\tlearn: 5.3417896\ttotal: 2.76s\tremaining: 0us\n",
      "0:\tlearn: 11.7803826\ttotal: 53ms\tremaining: 5.24s\n",
      "50:\tlearn: 7.3276507\ttotal: 1.5s\tremaining: 1.45s\n"
     ]
    },
    {
     "name": "stderr",
     "output_type": "stream",
     "text": [
      "\u001b[32m2024-01-08 17:40:55.664\u001b[0m | \u001b[1mINFO    \u001b[0m | \u001b[36mcomparasion_between_AC\u001b[0m:\u001b[36mget_importance_from_regressor\u001b[0m:\u001b[36m174\u001b[0m - \u001b[1mALL feature for model NIPTS: MAE = 9.509\u001b[0m\n"
     ]
    },
    {
     "name": "stdout",
     "output_type": "stream",
     "text": [
      "99:\tlearn: 5.1310966\ttotal: 2.83s\tremaining: 0us\n",
      "0:\tlearn: 11.8251613\ttotal: 39.8ms\tremaining: 3.94s\n",
      "50:\tlearn: 7.2908560\ttotal: 1.52s\tremaining: 1.47s\n"
     ]
    },
    {
     "name": "stderr",
     "output_type": "stream",
     "text": [
      "\u001b[32m2024-01-08 17:40:58.682\u001b[0m | \u001b[1mINFO    \u001b[0m | \u001b[36mcomparasion_between_AC\u001b[0m:\u001b[36mget_importance_from_regressor\u001b[0m:\u001b[36m174\u001b[0m - \u001b[1mALL feature for model NIPTS: MAE = 9.7138\u001b[0m\n"
     ]
    },
    {
     "name": "stdout",
     "output_type": "stream",
     "text": [
      "99:\tlearn: 5.1466236\ttotal: 2.87s\tremaining: 0us\n",
      "0:\tlearn: 11.8325477\ttotal: 40.4ms\tremaining: 4s\n",
      "50:\tlearn: 7.4072611\ttotal: 1.53s\tremaining: 1.47s\n"
     ]
    },
    {
     "name": "stderr",
     "output_type": "stream",
     "text": [
      "\u001b[32m2024-01-08 17:41:01.774\u001b[0m | \u001b[1mINFO    \u001b[0m | \u001b[36mcomparasion_between_AC\u001b[0m:\u001b[36mget_importance_from_regressor\u001b[0m:\u001b[36m174\u001b[0m - \u001b[1mALL feature for model NIPTS: MAE = 9.5277\u001b[0m\n"
     ]
    },
    {
     "name": "stdout",
     "output_type": "stream",
     "text": [
      "99:\tlearn: 5.1568607\ttotal: 2.94s\tremaining: 0us\n",
      "0:\tlearn: 11.8129319\ttotal: 40.7ms\tremaining: 4.03s\n",
      "50:\tlearn: 7.5592288\ttotal: 1.53s\tremaining: 1.47s\n"
     ]
    },
    {
     "name": "stderr",
     "output_type": "stream",
     "text": [
      "\u001b[32m2024-01-08 17:41:04.980\u001b[0m | \u001b[1mINFO    \u001b[0m | \u001b[36mcomparasion_between_AC\u001b[0m:\u001b[36mget_importance_from_regressor\u001b[0m:\u001b[36m174\u001b[0m - \u001b[1mALL feature for model NIPTS: MAE = 9.4736\u001b[0m\n"
     ]
    },
    {
     "name": "stdout",
     "output_type": "stream",
     "text": [
      "99:\tlearn: 5.3506793\ttotal: 3.02s\tremaining: 0us\n",
      "0:\tlearn: 11.7778168\ttotal: 40.5ms\tremaining: 4s\n",
      "50:\tlearn: 7.3125609\ttotal: 1.64s\tremaining: 1.57s\n"
     ]
    },
    {
     "name": "stderr",
     "output_type": "stream",
     "text": [
      "\u001b[32m2024-01-08 17:41:08.206\u001b[0m | \u001b[1mINFO    \u001b[0m | \u001b[36mcomparasion_between_AC\u001b[0m:\u001b[36mget_importance_from_regressor\u001b[0m:\u001b[36m174\u001b[0m - \u001b[1mALL feature for model NIPTS: MAE = 9.4922\u001b[0m\n"
     ]
    },
    {
     "name": "stdout",
     "output_type": "stream",
     "text": [
      "99:\tlearn: 5.1883549\ttotal: 3.11s\tremaining: 0us\n",
      "0:\tlearn: 11.8224620\ttotal: 42.4ms\tremaining: 4.2s\n",
      "50:\tlearn: 7.3007762\ttotal: 1.6s\tremaining: 1.54s\n"
     ]
    },
    {
     "name": "stderr",
     "output_type": "stream",
     "text": [
      "\u001b[32m2024-01-08 17:41:11.391\u001b[0m | \u001b[1mINFO    \u001b[0m | \u001b[36mcomparasion_between_AC\u001b[0m:\u001b[36mget_importance_from_regressor\u001b[0m:\u001b[36m174\u001b[0m - \u001b[1mALL feature for model NIPTS: MAE = 9.4768\u001b[0m\n"
     ]
    },
    {
     "name": "stdout",
     "output_type": "stream",
     "text": [
      "99:\tlearn: 5.1487929\ttotal: 3.08s\tremaining: 0us\n",
      "0:\tlearn: 11.8089917\ttotal: 41.4ms\tremaining: 4.1s\n",
      "50:\tlearn: 7.3165492\ttotal: 1.68s\tremaining: 1.62s\n"
     ]
    },
    {
     "name": "stderr",
     "output_type": "stream",
     "text": [
      "\u001b[32m2024-01-08 17:41:14.757\u001b[0m | \u001b[1mINFO    \u001b[0m | \u001b[36mcomparasion_between_AC\u001b[0m:\u001b[36mget_importance_from_regressor\u001b[0m:\u001b[36m174\u001b[0m - \u001b[1mALL feature for model NIPTS: MAE = 9.5427\u001b[0m\n"
     ]
    },
    {
     "name": "stdout",
     "output_type": "stream",
     "text": [
      "99:\tlearn: 5.0874259\ttotal: 3.26s\tremaining: 0us\n",
      "0:\tlearn: 11.7788127\ttotal: 39.7ms\tremaining: 3.93s\n",
      "50:\tlearn: 7.2763173\ttotal: 1.72s\tremaining: 1.65s\n"
     ]
    },
    {
     "name": "stderr",
     "output_type": "stream",
     "text": [
      "\u001b[32m2024-01-08 17:41:18.143\u001b[0m | \u001b[1mINFO    \u001b[0m | \u001b[36mcomparasion_between_AC\u001b[0m:\u001b[36mget_importance_from_regressor\u001b[0m:\u001b[36m174\u001b[0m - \u001b[1mALL feature for model NIPTS: MAE = 9.4406\u001b[0m\n"
     ]
    },
    {
     "name": "stdout",
     "output_type": "stream",
     "text": [
      "99:\tlearn: 5.1335676\ttotal: 3.26s\tremaining: 0us\n",
      "0:\tlearn: 11.8059066\ttotal: 43.1ms\tremaining: 4.26s\n",
      "50:\tlearn: 7.4258338\ttotal: 1.76s\tremaining: 1.69s\n"
     ]
    },
    {
     "name": "stderr",
     "output_type": "stream",
     "text": [
      "\u001b[32m2024-01-08 17:41:21.635\u001b[0m | \u001b[1mINFO    \u001b[0m | \u001b[36mcomparasion_between_AC\u001b[0m:\u001b[36mget_importance_from_regressor\u001b[0m:\u001b[36m174\u001b[0m - \u001b[1mALL feature for model NIPTS: MAE = 9.2076\u001b[0m\n"
     ]
    },
    {
     "name": "stdout",
     "output_type": "stream",
     "text": [
      "99:\tlearn: 5.1927872\ttotal: 3.37s\tremaining: 0us\n",
      "0:\tlearn: 11.7808301\ttotal: 43.9ms\tremaining: 4.34s\n",
      "50:\tlearn: 7.3042602\ttotal: 1.8s\tremaining: 1.73s\n"
     ]
    },
    {
     "name": "stderr",
     "output_type": "stream",
     "text": [
      "\u001b[32m2024-01-08 17:41:25.226\u001b[0m | \u001b[1mINFO    \u001b[0m | \u001b[36mcomparasion_between_AC\u001b[0m:\u001b[36mget_importance_from_regressor\u001b[0m:\u001b[36m174\u001b[0m - \u001b[1mALL feature for model NIPTS: MAE = 9.5672\u001b[0m\n"
     ]
    },
    {
     "name": "stdout",
     "output_type": "stream",
     "text": [
      "99:\tlearn: 5.0559040\ttotal: 3.46s\tremaining: 0us\n",
      "0:\tlearn: 11.7922842\ttotal: 47.1ms\tremaining: 4.66s\n",
      "50:\tlearn: 7.2887327\ttotal: 1.82s\tremaining: 1.75s\n"
     ]
    },
    {
     "name": "stderr",
     "output_type": "stream",
     "text": [
      "\u001b[32m2024-01-08 17:41:28.878\u001b[0m | \u001b[1mINFO    \u001b[0m | \u001b[36mcomparasion_between_AC\u001b[0m:\u001b[36mget_importance_from_regressor\u001b[0m:\u001b[36m174\u001b[0m - \u001b[1mALL feature for model NIPTS: MAE = 9.5989\u001b[0m\n"
     ]
    },
    {
     "name": "stdout",
     "output_type": "stream",
     "text": [
      "99:\tlearn: 5.0913809\ttotal: 3.52s\tremaining: 0us\n",
      "0:\tlearn: 11.7731532\ttotal: 41.7ms\tremaining: 4.13s\n",
      "50:\tlearn: 7.1423969\ttotal: 1.79s\tremaining: 1.72s\n"
     ]
    },
    {
     "name": "stderr",
     "output_type": "stream",
     "text": [
      "\u001b[32m2024-01-08 17:41:32.486\u001b[0m | \u001b[1mINFO    \u001b[0m | \u001b[36mcomparasion_between_AC\u001b[0m:\u001b[36mget_importance_from_regressor\u001b[0m:\u001b[36m174\u001b[0m - \u001b[1mALL feature for model NIPTS: MAE = 9.519\u001b[0m\n"
     ]
    },
    {
     "name": "stdout",
     "output_type": "stream",
     "text": [
      "99:\tlearn: 4.9868389\ttotal: 3.48s\tremaining: 0us\n",
      "0:\tlearn: 11.7810470\ttotal: 47.9ms\tremaining: 4.74s\n",
      "50:\tlearn: 7.3269359\ttotal: 1.85s\tremaining: 1.78s\n"
     ]
    },
    {
     "name": "stderr",
     "output_type": "stream",
     "text": [
      "\u001b[32m2024-01-08 17:41:36.161\u001b[0m | \u001b[1mINFO    \u001b[0m | \u001b[36mcomparasion_between_AC\u001b[0m:\u001b[36mget_importance_from_regressor\u001b[0m:\u001b[36m174\u001b[0m - \u001b[1mALL feature for model NIPTS: MAE = 9.3889\u001b[0m\n"
     ]
    },
    {
     "name": "stdout",
     "output_type": "stream",
     "text": [
      "99:\tlearn: 4.9960962\ttotal: 3.55s\tremaining: 0us\n",
      "0:\tlearn: 11.7818695\ttotal: 52.7ms\tremaining: 5.22s\n",
      "50:\tlearn: 7.2788769\ttotal: 1.89s\tremaining: 1.81s\n"
     ]
    },
    {
     "name": "stderr",
     "output_type": "stream",
     "text": [
      "\u001b[32m2024-01-08 17:41:39.923\u001b[0m | \u001b[1mINFO    \u001b[0m | \u001b[36mcomparasion_between_AC\u001b[0m:\u001b[36mget_importance_from_regressor\u001b[0m:\u001b[36m174\u001b[0m - \u001b[1mALL feature for model NIPTS: MAE = 9.4215\u001b[0m\n"
     ]
    },
    {
     "name": "stdout",
     "output_type": "stream",
     "text": [
      "99:\tlearn: 5.0409497\ttotal: 3.62s\tremaining: 0us\n",
      "0:\tlearn: 11.7796233\ttotal: 44.8ms\tremaining: 4.44s\n",
      "50:\tlearn: 7.0916046\ttotal: 1.9s\tremaining: 1.82s\n"
     ]
    },
    {
     "name": "stderr",
     "output_type": "stream",
     "text": [
      "\u001b[32m2024-01-08 17:41:43.712\u001b[0m | \u001b[1mINFO    \u001b[0m | \u001b[36mcomparasion_between_AC\u001b[0m:\u001b[36mget_importance_from_regressor\u001b[0m:\u001b[36m174\u001b[0m - \u001b[1mALL feature for model NIPTS: MAE = 9.3353\u001b[0m\n"
     ]
    },
    {
     "name": "stdout",
     "output_type": "stream",
     "text": [
      "99:\tlearn: 4.9671286\ttotal: 3.67s\tremaining: 0us\n",
      "0:\tlearn: 11.7982214\ttotal: 50.8ms\tremaining: 5.03s\n",
      "50:\tlearn: 7.2456039\ttotal: 1.96s\tremaining: 1.89s\n"
     ]
    },
    {
     "name": "stderr",
     "output_type": "stream",
     "text": [
      "\u001b[32m2024-01-08 17:41:47.607\u001b[0m | \u001b[1mINFO    \u001b[0m | \u001b[36mcomparasion_between_AC\u001b[0m:\u001b[36mget_importance_from_regressor\u001b[0m:\u001b[36m174\u001b[0m - \u001b[1mALL feature for model NIPTS: MAE = 9.6091\u001b[0m\n"
     ]
    },
    {
     "name": "stdout",
     "output_type": "stream",
     "text": [
      "99:\tlearn: 5.0470682\ttotal: 3.77s\tremaining: 0us\n",
      "0:\tlearn: 11.7939259\ttotal: 49.6ms\tremaining: 4.91s\n",
      "50:\tlearn: 7.1853797\ttotal: 2.01s\tremaining: 1.93s\n"
     ]
    },
    {
     "name": "stderr",
     "output_type": "stream",
     "text": [
      "\u001b[32m2024-01-08 17:41:51.556\u001b[0m | \u001b[1mINFO    \u001b[0m | \u001b[36mcomparasion_between_AC\u001b[0m:\u001b[36mget_importance_from_regressor\u001b[0m:\u001b[36m174\u001b[0m - \u001b[1mALL feature for model NIPTS: MAE = 9.4157\u001b[0m\n"
     ]
    },
    {
     "name": "stdout",
     "output_type": "stream",
     "text": [
      "99:\tlearn: 4.9912059\ttotal: 3.82s\tremaining: 0us\n",
      "0:\tlearn: 11.7810476\ttotal: 49.8ms\tremaining: 4.93s\n",
      "50:\tlearn: 7.0747416\ttotal: 2.04s\tremaining: 1.96s\n"
     ]
    },
    {
     "name": "stderr",
     "output_type": "stream",
     "text": [
      "\u001b[32m2024-01-08 17:41:55.605\u001b[0m | \u001b[1mINFO    \u001b[0m | \u001b[36mcomparasion_between_AC\u001b[0m:\u001b[36mget_importance_from_regressor\u001b[0m:\u001b[36m174\u001b[0m - \u001b[1mALL feature for model NIPTS: MAE = 9.3638\u001b[0m\n"
     ]
    },
    {
     "name": "stdout",
     "output_type": "stream",
     "text": [
      "99:\tlearn: 4.9266888\ttotal: 3.93s\tremaining: 0us\n",
      "0:\tlearn: 11.8004740\ttotal: 73.7ms\tremaining: 7.29s\n",
      "50:\tlearn: 7.2240039\ttotal: 2.1s\tremaining: 2.02s\n"
     ]
    },
    {
     "name": "stderr",
     "output_type": "stream",
     "text": [
      "\u001b[32m2024-01-08 17:41:59.692\u001b[0m | \u001b[1mINFO    \u001b[0m | \u001b[36mcomparasion_between_AC\u001b[0m:\u001b[36mget_importance_from_regressor\u001b[0m:\u001b[36m174\u001b[0m - \u001b[1mALL feature for model NIPTS: MAE = 9.376\u001b[0m\n"
     ]
    },
    {
     "name": "stdout",
     "output_type": "stream",
     "text": [
      "99:\tlearn: 5.0081850\ttotal: 3.95s\tremaining: 0us\n",
      "0:\tlearn: 11.7938346\ttotal: 53.8ms\tremaining: 5.32s\n",
      "50:\tlearn: 7.2359724\ttotal: 2.08s\tremaining: 1.99s\n"
     ]
    },
    {
     "name": "stderr",
     "output_type": "stream",
     "text": [
      "\u001b[32m2024-01-08 17:42:03.832\u001b[0m | \u001b[1mINFO    \u001b[0m | \u001b[36mcomparasion_between_AC\u001b[0m:\u001b[36mget_importance_from_regressor\u001b[0m:\u001b[36m174\u001b[0m - \u001b[1mALL feature for model NIPTS: MAE = 9.5057\u001b[0m\n"
     ]
    },
    {
     "name": "stdout",
     "output_type": "stream",
     "text": [
      "99:\tlearn: 4.9846823\ttotal: 4.02s\tremaining: 0us\n",
      "0:\tlearn: 11.8069553\ttotal: 52.2ms\tremaining: 5.17s\n",
      "50:\tlearn: 7.1336334\ttotal: 2.17s\tremaining: 2.09s\n"
     ]
    },
    {
     "name": "stderr",
     "output_type": "stream",
     "text": [
      "\u001b[32m2024-01-08 17:42:08.150\u001b[0m | \u001b[1mINFO    \u001b[0m | \u001b[36mcomparasion_between_AC\u001b[0m:\u001b[36mget_importance_from_regressor\u001b[0m:\u001b[36m174\u001b[0m - \u001b[1mALL feature for model NIPTS: MAE = 9.5201\u001b[0m\n"
     ]
    },
    {
     "name": "stdout",
     "output_type": "stream",
     "text": [
      "99:\tlearn: 4.8258773\ttotal: 4.18s\tremaining: 0us\n",
      "0:\tlearn: 11.7831703\ttotal: 54.9ms\tremaining: 5.44s\n",
      "50:\tlearn: 7.1392034\ttotal: 2.2s\tremaining: 2.11s\n"
     ]
    },
    {
     "name": "stderr",
     "output_type": "stream",
     "text": [
      "\u001b[32m2024-01-08 17:42:12.510\u001b[0m | \u001b[1mINFO    \u001b[0m | \u001b[36mcomparasion_between_AC\u001b[0m:\u001b[36mget_importance_from_regressor\u001b[0m:\u001b[36m174\u001b[0m - \u001b[1mALL feature for model NIPTS: MAE = 9.3104\u001b[0m\n"
     ]
    },
    {
     "name": "stdout",
     "output_type": "stream",
     "text": [
      "99:\tlearn: 4.8320695\ttotal: 4.23s\tremaining: 0us\n",
      "0:\tlearn: 11.8036769\ttotal: 50.9ms\tremaining: 5.04s\n",
      "50:\tlearn: 7.1718104\ttotal: 2.18s\tremaining: 2.1s\n"
     ]
    },
    {
     "name": "stderr",
     "output_type": "stream",
     "text": [
      "\u001b[32m2024-01-08 17:42:16.832\u001b[0m | \u001b[1mINFO    \u001b[0m | \u001b[36mcomparasion_between_AC\u001b[0m:\u001b[36mget_importance_from_regressor\u001b[0m:\u001b[36m174\u001b[0m - \u001b[1mALL feature for model NIPTS: MAE = 9.4451\u001b[0m\n"
     ]
    },
    {
     "name": "stdout",
     "output_type": "stream",
     "text": [
      "99:\tlearn: 4.9434096\ttotal: 4.21s\tremaining: 0us\n",
      "0:\tlearn: 11.7940442\ttotal: 58.8ms\tremaining: 5.82s\n",
      "50:\tlearn: 7.0490163\ttotal: 2.25s\tremaining: 2.16s\n"
     ]
    },
    {
     "name": "stderr",
     "output_type": "stream",
     "text": [
      "\u001b[32m2024-01-08 17:42:21.267\u001b[0m | \u001b[1mINFO    \u001b[0m | \u001b[36mcomparasion_between_AC\u001b[0m:\u001b[36mget_importance_from_regressor\u001b[0m:\u001b[36m174\u001b[0m - \u001b[1mALL feature for model NIPTS: MAE = 9.4436\u001b[0m\n"
     ]
    },
    {
     "name": "stdout",
     "output_type": "stream",
     "text": [
      "99:\tlearn: 4.9067550\ttotal: 4.3s\tremaining: 0us\n",
      "0:\tlearn: 11.7824276\ttotal: 50.3ms\tremaining: 4.98s\n",
      "50:\tlearn: 6.9862141\ttotal: 2.28s\tremaining: 2.19s\n"
     ]
    },
    {
     "name": "stderr",
     "output_type": "stream",
     "text": [
      "\u001b[32m2024-01-08 17:42:25.769\u001b[0m | \u001b[1mINFO    \u001b[0m | \u001b[36mcomparasion_between_AC\u001b[0m:\u001b[36mget_importance_from_regressor\u001b[0m:\u001b[36m174\u001b[0m - \u001b[1mALL feature for model NIPTS: MAE = 9.3568\u001b[0m\n"
     ]
    },
    {
     "name": "stdout",
     "output_type": "stream",
     "text": [
      "99:\tlearn: 4.8695013\ttotal: 4.38s\tremaining: 0us\n",
      "0:\tlearn: 11.7899525\ttotal: 58.3ms\tremaining: 5.77s\n",
      "50:\tlearn: 7.1427586\ttotal: 2.32s\tremaining: 2.23s\n"
     ]
    },
    {
     "name": "stderr",
     "output_type": "stream",
     "text": [
      "\u001b[32m2024-01-08 17:42:30.317\u001b[0m | \u001b[1mINFO    \u001b[0m | \u001b[36mcomparasion_between_AC\u001b[0m:\u001b[36mget_importance_from_regressor\u001b[0m:\u001b[36m174\u001b[0m - \u001b[1mALL feature for model NIPTS: MAE = 9.4861\u001b[0m\n"
     ]
    },
    {
     "name": "stdout",
     "output_type": "stream",
     "text": [
      "99:\tlearn: 4.8029041\ttotal: 4.42s\tremaining: 0us\n",
      "0:\tlearn: 11.7826554\ttotal: 55.7ms\tremaining: 5.52s\n",
      "50:\tlearn: 7.0304679\ttotal: 2.35s\tremaining: 2.25s\n"
     ]
    },
    {
     "name": "stderr",
     "output_type": "stream",
     "text": [
      "\u001b[32m2024-01-08 17:42:34.946\u001b[0m | \u001b[1mINFO    \u001b[0m | \u001b[36mcomparasion_between_AC\u001b[0m:\u001b[36mget_importance_from_regressor\u001b[0m:\u001b[36m174\u001b[0m - \u001b[1mALL feature for model NIPTS: MAE = 9.532\u001b[0m\n"
     ]
    },
    {
     "name": "stdout",
     "output_type": "stream",
     "text": [
      "99:\tlearn: 4.8691254\ttotal: 4.49s\tremaining: 0us\n",
      "0:\tlearn: 11.8132268\ttotal: 49.4ms\tremaining: 4.89s\n",
      "50:\tlearn: 7.1758850\ttotal: 2.42s\tremaining: 2.32s\n"
     ]
    },
    {
     "name": "stderr",
     "output_type": "stream",
     "text": [
      "\u001b[32m2024-01-08 17:42:39.736\u001b[0m | \u001b[1mINFO    \u001b[0m | \u001b[36mcomparasion_between_AC\u001b[0m:\u001b[36mget_importance_from_regressor\u001b[0m:\u001b[36m174\u001b[0m - \u001b[1mALL feature for model NIPTS: MAE = 9.4131\u001b[0m\n"
     ]
    },
    {
     "name": "stdout",
     "output_type": "stream",
     "text": [
      "99:\tlearn: 4.9007541\ttotal: 4.64s\tremaining: 0us\n",
      "0:\tlearn: 11.7886269\ttotal: 54.8ms\tremaining: 5.43s\n",
      "50:\tlearn: 7.2720165\ttotal: 2.41s\tremaining: 2.32s\n"
     ]
    },
    {
     "name": "stderr",
     "output_type": "stream",
     "text": [
      "\u001b[32m2024-01-08 17:42:44.436\u001b[0m | \u001b[1mINFO    \u001b[0m | \u001b[36mcomparasion_between_AC\u001b[0m:\u001b[36mget_importance_from_regressor\u001b[0m:\u001b[36m174\u001b[0m - \u001b[1mALL feature for model NIPTS: MAE = 9.4713\u001b[0m\n"
     ]
    },
    {
     "name": "stdout",
     "output_type": "stream",
     "text": [
      "99:\tlearn: 4.9773541\ttotal: 4.57s\tremaining: 0us\n",
      "0:\tlearn: 11.7829416\ttotal: 62.5ms\tremaining: 6.18s\n",
      "50:\tlearn: 7.2351018\ttotal: 2.45s\tremaining: 2.35s\n"
     ]
    },
    {
     "name": "stderr",
     "output_type": "stream",
     "text": [
      "\u001b[32m2024-01-08 17:42:49.363\u001b[0m | \u001b[1mINFO    \u001b[0m | \u001b[36mcomparasion_between_AC\u001b[0m:\u001b[36mget_importance_from_regressor\u001b[0m:\u001b[36m174\u001b[0m - \u001b[1mALL feature for model NIPTS: MAE = 9.5032\u001b[0m\n"
     ]
    },
    {
     "name": "stdout",
     "output_type": "stream",
     "text": [
      "99:\tlearn: 4.9642042\ttotal: 4.8s\tremaining: 0us\n",
      "0:\tlearn: 11.8151186\ttotal: 51.3ms\tremaining: 5.08s\n",
      "50:\tlearn: 7.1998525\ttotal: 2.52s\tremaining: 2.42s\n"
     ]
    },
    {
     "name": "stderr",
     "output_type": "stream",
     "text": [
      "\u001b[32m2024-01-08 17:42:54.312\u001b[0m | \u001b[1mINFO    \u001b[0m | \u001b[36mcomparasion_between_AC\u001b[0m:\u001b[36mget_importance_from_regressor\u001b[0m:\u001b[36m174\u001b[0m - \u001b[1mALL feature for model NIPTS: MAE = 9.4002\u001b[0m\n"
     ]
    },
    {
     "name": "stdout",
     "output_type": "stream",
     "text": [
      "99:\tlearn: 4.9474366\ttotal: 4.83s\tremaining: 0us\n",
      "0:\tlearn: 11.7938973\ttotal: 60.9ms\tremaining: 6.02s\n",
      "50:\tlearn: 7.2306246\ttotal: 2.55s\tremaining: 2.45s\n"
     ]
    },
    {
     "name": "stderr",
     "output_type": "stream",
     "text": [
      "\u001b[32m2024-01-08 17:42:59.329\u001b[0m | \u001b[1mINFO    \u001b[0m | \u001b[36mcomparasion_between_AC\u001b[0m:\u001b[36mget_importance_from_regressor\u001b[0m:\u001b[36m174\u001b[0m - \u001b[1mALL feature for model NIPTS: MAE = 9.3739\u001b[0m\n"
     ]
    },
    {
     "name": "stdout",
     "output_type": "stream",
     "text": [
      "99:\tlearn: 4.9263744\ttotal: 4.89s\tremaining: 0us\n",
      "0:\tlearn: 11.7769363\ttotal: 57.9ms\tremaining: 5.73s\n",
      "50:\tlearn: 7.1358985\ttotal: 2.55s\tremaining: 2.45s\n"
     ]
    },
    {
     "name": "stderr",
     "output_type": "stream",
     "text": [
      "\u001b[32m2024-01-08 17:43:04.276\u001b[0m | \u001b[1mINFO    \u001b[0m | \u001b[36mcomparasion_between_AC\u001b[0m:\u001b[36mget_importance_from_regressor\u001b[0m:\u001b[36m174\u001b[0m - \u001b[1mALL feature for model NIPTS: MAE = 9.4117\u001b[0m\n"
     ]
    },
    {
     "name": "stdout",
     "output_type": "stream",
     "text": [
      "99:\tlearn: 4.9629394\ttotal: 4.82s\tremaining: 0us\n",
      "0:\tlearn: 11.8076590\ttotal: 61.1ms\tremaining: 6.05s\n",
      "50:\tlearn: 7.1654938\ttotal: 2.56s\tremaining: 2.46s\n"
     ]
    },
    {
     "name": "stderr",
     "output_type": "stream",
     "text": [
      "\u001b[32m2024-01-08 17:43:09.364\u001b[0m | \u001b[1mINFO    \u001b[0m | \u001b[36mcomparasion_between_AC\u001b[0m:\u001b[36mget_importance_from_regressor\u001b[0m:\u001b[36m174\u001b[0m - \u001b[1mALL feature for model NIPTS: MAE = 9.5975\u001b[0m\n"
     ]
    },
    {
     "name": "stdout",
     "output_type": "stream",
     "text": [
      "99:\tlearn: 4.7795688\ttotal: 4.97s\tremaining: 0us\n",
      "0:\tlearn: 11.8208599\ttotal: 62.5ms\tremaining: 6.19s\n",
      "50:\tlearn: 7.1923206\ttotal: 2.64s\tremaining: 2.54s\n"
     ]
    },
    {
     "name": "stderr",
     "output_type": "stream",
     "text": [
      "\u001b[32m2024-01-08 17:43:14.506\u001b[0m | \u001b[1mINFO    \u001b[0m | \u001b[36mcomparasion_between_AC\u001b[0m:\u001b[36mget_importance_from_regressor\u001b[0m:\u001b[36m174\u001b[0m - \u001b[1mALL feature for model NIPTS: MAE = 9.3845\u001b[0m\n"
     ]
    },
    {
     "name": "stdout",
     "output_type": "stream",
     "text": [
      "99:\tlearn: 4.8087986\ttotal: 5.01s\tremaining: 0us\n",
      "0:\tlearn: 11.7912775\ttotal: 59.2ms\tremaining: 5.86s\n",
      "50:\tlearn: 7.1554190\ttotal: 2.62s\tremaining: 2.52s\n"
     ]
    },
    {
     "name": "stderr",
     "output_type": "stream",
     "text": [
      "\u001b[32m2024-01-08 17:43:19.534\u001b[0m | \u001b[1mINFO    \u001b[0m | \u001b[36mcomparasion_between_AC\u001b[0m:\u001b[36mget_importance_from_regressor\u001b[0m:\u001b[36m174\u001b[0m - \u001b[1mALL feature for model NIPTS: MAE = 9.2473\u001b[0m\n"
     ]
    },
    {
     "name": "stdout",
     "output_type": "stream",
     "text": [
      "99:\tlearn: 4.9169433\ttotal: 4.89s\tremaining: 0us\n",
      "0:\tlearn: 11.8068188\ttotal: 59.7ms\tremaining: 5.91s\n",
      "50:\tlearn: 7.1284265\ttotal: 2.64s\tremaining: 2.54s\n"
     ]
    },
    {
     "name": "stderr",
     "output_type": "stream",
     "text": [
      "\u001b[32m2024-01-08 17:43:24.676\u001b[0m | \u001b[1mINFO    \u001b[0m | \u001b[36mcomparasion_between_AC\u001b[0m:\u001b[36mget_importance_from_regressor\u001b[0m:\u001b[36m174\u001b[0m - \u001b[1mALL feature for model NIPTS: MAE = 9.1416\u001b[0m\n"
     ]
    },
    {
     "name": "stdout",
     "output_type": "stream",
     "text": [
      "99:\tlearn: 4.8562527\ttotal: 5.01s\tremaining: 0us\n",
      "0:\tlearn: 11.7939314\ttotal: 69.9ms\tremaining: 6.92s\n",
      "50:\tlearn: 7.0997756\ttotal: 2.68s\tremaining: 2.58s\n"
     ]
    },
    {
     "name": "stderr",
     "output_type": "stream",
     "text": [
      "\u001b[32m2024-01-08 17:43:29.917\u001b[0m | \u001b[1mINFO    \u001b[0m | \u001b[36mcomparasion_between_AC\u001b[0m:\u001b[36mget_importance_from_regressor\u001b[0m:\u001b[36m174\u001b[0m - \u001b[1mALL feature for model NIPTS: MAE = 9.598\u001b[0m\n"
     ]
    },
    {
     "name": "stdout",
     "output_type": "stream",
     "text": [
      "99:\tlearn: 4.8713935\ttotal: 5.12s\tremaining: 0us\n",
      "0:\tlearn: 11.8156798\ttotal: 57.8ms\tremaining: 5.72s\n",
      "50:\tlearn: 7.0171200\ttotal: 2.69s\tremaining: 2.58s\n"
     ]
    },
    {
     "name": "stderr",
     "output_type": "stream",
     "text": [
      "\u001b[32m2024-01-08 17:43:35.210\u001b[0m | \u001b[1mINFO    \u001b[0m | \u001b[36mcomparasion_between_AC\u001b[0m:\u001b[36mget_importance_from_regressor\u001b[0m:\u001b[36m174\u001b[0m - \u001b[1mALL feature for model NIPTS: MAE = 9.477\u001b[0m\n"
     ]
    },
    {
     "name": "stdout",
     "output_type": "stream",
     "text": [
      "99:\tlearn: 4.7155028\ttotal: 5.15s\tremaining: 0us\n",
      "0:\tlearn: 11.7964315\ttotal: 65.3ms\tremaining: 6.46s\n",
      "50:\tlearn: 7.0454395\ttotal: 2.71s\tremaining: 2.6s\n"
     ]
    },
    {
     "name": "stderr",
     "output_type": "stream",
     "text": [
      "\u001b[32m2024-01-08 17:43:40.702\u001b[0m | \u001b[1mINFO    \u001b[0m | \u001b[36mcomparasion_between_AC\u001b[0m:\u001b[36mget_importance_from_regressor\u001b[0m:\u001b[36m174\u001b[0m - \u001b[1mALL feature for model NIPTS: MAE = 9.2471\u001b[0m\n"
     ]
    },
    {
     "name": "stdout",
     "output_type": "stream",
     "text": [
      "99:\tlearn: 4.6616029\ttotal: 5.37s\tremaining: 0us\n",
      "0:\tlearn: 11.8032504\ttotal: 63.8ms\tremaining: 6.32s\n",
      "50:\tlearn: 7.0623288\ttotal: 2.82s\tremaining: 2.71s\n"
     ]
    },
    {
     "name": "stderr",
     "output_type": "stream",
     "text": [
      "\u001b[32m2024-01-08 17:43:46.262\u001b[0m | \u001b[1mINFO    \u001b[0m | \u001b[36mcomparasion_between_AC\u001b[0m:\u001b[36mget_importance_from_regressor\u001b[0m:\u001b[36m174\u001b[0m - \u001b[1mALL feature for model NIPTS: MAE = 9.3435\u001b[0m\n"
     ]
    },
    {
     "name": "stdout",
     "output_type": "stream",
     "text": [
      "99:\tlearn: 4.7194930\ttotal: 5.44s\tremaining: 0us\n",
      "0:\tlearn: 11.8316122\ttotal: 62.9ms\tremaining: 6.23s\n",
      "50:\tlearn: 7.0174833\ttotal: 2.82s\tremaining: 2.71s\n"
     ]
    },
    {
     "name": "stderr",
     "output_type": "stream",
     "text": [
      "\u001b[32m2024-01-08 17:43:51.712\u001b[0m | \u001b[1mINFO    \u001b[0m | \u001b[36mcomparasion_between_AC\u001b[0m:\u001b[36mget_importance_from_regressor\u001b[0m:\u001b[36m174\u001b[0m - \u001b[1mALL feature for model NIPTS: MAE = 9.522\u001b[0m\n"
     ]
    },
    {
     "name": "stdout",
     "output_type": "stream",
     "text": [
      "99:\tlearn: 4.8893855\ttotal: 5.33s\tremaining: 0us\n",
      "0:\tlearn: 11.7975648\ttotal: 65.2ms\tremaining: 6.46s\n",
      "50:\tlearn: 7.1646923\ttotal: 2.82s\tremaining: 2.71s\n"
     ]
    },
    {
     "name": "stderr",
     "output_type": "stream",
     "text": [
      "\u001b[32m2024-01-08 17:43:57.320\u001b[0m | \u001b[1mINFO    \u001b[0m | \u001b[36mcomparasion_between_AC\u001b[0m:\u001b[36mget_importance_from_regressor\u001b[0m:\u001b[36m174\u001b[0m - \u001b[1mALL feature for model NIPTS: MAE = 9.4022\u001b[0m\n"
     ]
    },
    {
     "name": "stdout",
     "output_type": "stream",
     "text": [
      "99:\tlearn: 4.8607909\ttotal: 5.49s\tremaining: 0us\n",
      "0:\tlearn: 11.7945087\ttotal: 63.3ms\tremaining: 6.26s\n",
      "50:\tlearn: 7.0546846\ttotal: 2.87s\tremaining: 2.75s\n"
     ]
    },
    {
     "name": "stderr",
     "output_type": "stream",
     "text": [
      "\u001b[32m2024-01-08 17:44:02.989\u001b[0m | \u001b[1mINFO    \u001b[0m | \u001b[36mcomparasion_between_AC\u001b[0m:\u001b[36mget_importance_from_regressor\u001b[0m:\u001b[36m174\u001b[0m - \u001b[1mALL feature for model NIPTS: MAE = 9.6018\u001b[0m\n"
     ]
    },
    {
     "name": "stdout",
     "output_type": "stream",
     "text": [
      "99:\tlearn: 4.8635489\ttotal: 5.54s\tremaining: 0us\n",
      "0:\tlearn: 11.8090410\ttotal: 63.3ms\tremaining: 6.26s\n",
      "50:\tlearn: 7.0727217\ttotal: 2.88s\tremaining: 2.77s\n"
     ]
    },
    {
     "name": "stderr",
     "output_type": "stream",
     "text": [
      "\u001b[32m2024-01-08 17:44:08.681\u001b[0m | \u001b[1mINFO    \u001b[0m | \u001b[36mcomparasion_between_AC\u001b[0m:\u001b[36mget_importance_from_regressor\u001b[0m:\u001b[36m174\u001b[0m - \u001b[1mALL feature for model NIPTS: MAE = 9.4298\u001b[0m\n"
     ]
    },
    {
     "name": "stdout",
     "output_type": "stream",
     "text": [
      "99:\tlearn: 4.8359798\ttotal: 5.56s\tremaining: 0us\n",
      "0:\tlearn: 11.8142502\ttotal: 73.3ms\tremaining: 7.25s\n",
      "50:\tlearn: 7.0828727\ttotal: 3.11s\tremaining: 2.99s\n"
     ]
    },
    {
     "name": "stderr",
     "output_type": "stream",
     "text": [
      "\u001b[32m2024-01-08 17:44:14.674\u001b[0m | \u001b[1mINFO    \u001b[0m | \u001b[36mcomparasion_between_AC\u001b[0m:\u001b[36mget_importance_from_regressor\u001b[0m:\u001b[36m174\u001b[0m - \u001b[1mALL feature for model NIPTS: MAE = 9.3826\u001b[0m\n"
     ]
    },
    {
     "name": "stdout",
     "output_type": "stream",
     "text": [
      "99:\tlearn: 4.7924991\ttotal: 5.83s\tremaining: 0us\n",
      "0:\tlearn: 11.7569037\ttotal: 82.5ms\tremaining: 8.17s\n",
      "50:\tlearn: 7.1612968\ttotal: 2.96s\tremaining: 2.84s\n"
     ]
    },
    {
     "name": "stderr",
     "output_type": "stream",
     "text": [
      "\u001b[32m2024-01-08 17:44:20.540\u001b[0m | \u001b[1mINFO    \u001b[0m | \u001b[36mcomparasion_between_AC\u001b[0m:\u001b[36mget_importance_from_regressor\u001b[0m:\u001b[36m174\u001b[0m - \u001b[1mALL feature for model NIPTS: MAE = 9.225\u001b[0m\n"
     ]
    },
    {
     "name": "stdout",
     "output_type": "stream",
     "text": [
      "99:\tlearn: 4.9198888\ttotal: 5.73s\tremaining: 0us\n",
      "0:\tlearn: 11.8172130\ttotal: 76.4ms\tremaining: 7.57s\n",
      "50:\tlearn: 7.1890060\ttotal: 3.21s\tremaining: 3.08s\n"
     ]
    },
    {
     "name": "stderr",
     "output_type": "stream",
     "text": [
      "\u001b[32m2024-01-08 17:44:26.940\u001b[0m | \u001b[1mINFO    \u001b[0m | \u001b[36mcomparasion_between_AC\u001b[0m:\u001b[36mget_importance_from_regressor\u001b[0m:\u001b[36m174\u001b[0m - \u001b[1mALL feature for model NIPTS: MAE = 9.6698\u001b[0m\n"
     ]
    },
    {
     "name": "stdout",
     "output_type": "stream",
     "text": [
      "99:\tlearn: 4.8823737\ttotal: 6.26s\tremaining: 0us\n",
      "0:\tlearn: 11.7888023\ttotal: 69.8ms\tremaining: 6.91s\n",
      "50:\tlearn: 7.1894361\ttotal: 6.99s\tremaining: 6.72s\n"
     ]
    },
    {
     "name": "stderr",
     "output_type": "stream",
     "text": [
      "\u001b[32m2024-01-08 17:44:41.025\u001b[0m | \u001b[1mINFO    \u001b[0m | \u001b[36mcomparasion_between_AC\u001b[0m:\u001b[36mget_importance_from_regressor\u001b[0m:\u001b[36m174\u001b[0m - \u001b[1mALL feature for model NIPTS: MAE = 9.5035\u001b[0m\n"
     ]
    },
    {
     "name": "stdout",
     "output_type": "stream",
     "text": [
      "99:\tlearn: 4.8255886\ttotal: 13.9s\tremaining: 0us\n",
      "0:\tlearn: 11.7730219\ttotal: 163ms\tremaining: 16.1s\n",
      "50:\tlearn: 7.1483596\ttotal: 7.44s\tremaining: 7.15s\n"
     ]
    },
    {
     "name": "stderr",
     "output_type": "stream",
     "text": [
      "\u001b[32m2024-01-08 17:44:55.657\u001b[0m | \u001b[1mINFO    \u001b[0m | \u001b[36mcomparasion_between_AC\u001b[0m:\u001b[36mget_importance_from_regressor\u001b[0m:\u001b[36m174\u001b[0m - \u001b[1mALL feature for model NIPTS: MAE = 9.5137\u001b[0m\n"
     ]
    },
    {
     "name": "stdout",
     "output_type": "stream",
     "text": [
      "99:\tlearn: 4.9040439\ttotal: 14.4s\tremaining: 0us\n",
      "0:\tlearn: 11.7664088\ttotal: 140ms\tremaining: 13.9s\n",
      "50:\tlearn: 7.0740129\ttotal: 5.92s\tremaining: 5.69s\n"
     ]
    },
    {
     "name": "stderr",
     "output_type": "stream",
     "text": [
      "\u001b[32m2024-01-08 17:45:04.934\u001b[0m | \u001b[1mINFO    \u001b[0m | \u001b[36mcomparasion_between_AC\u001b[0m:\u001b[36mget_importance_from_regressor\u001b[0m:\u001b[36m174\u001b[0m - \u001b[1mALL feature for model NIPTS: MAE = 9.0078\u001b[0m\n"
     ]
    },
    {
     "name": "stdout",
     "output_type": "stream",
     "text": [
      "99:\tlearn: 4.8875124\ttotal: 9.12s\tremaining: 0us\n"
     ]
    },
    {
     "data": {
      "image/png": "[encoded data removed]",
      "text/plain": [
       "<Figure size 650x500 with 1 Axes>"
      ]
     },
     "metadata": {},
     "output_type": "display_data"
    }
   ],
   "source": [
    "initial_features_search = [\n",
    "    \"LAeq\", \"LCeq\", \"Leq\", \"LAeq_adjust_segment_ari_A+A\",\n",
    "    \"LCeq_adjust_segment_ari_C+C\", \"LAeq_adjust_total_ari_A+A\",\n",
    "    \"LCeq_adjust_total_ari_C+C\", \"LAeq_adjust_total_geo_A+A\",\n",
    "    \"LCeq_adjust_total_geo_C+C\"\n",
    "]\n",
    "MAE_scores = {}\n",
    "X = extract_df[initial_features_search]\n",
    "y = extract_df[\"NIPTS\"]\n",
    "model, MAE, importances_res = get_importance_from_regressor(\n",
    "    X=X,\n",
    "    y=y,\n",
    "    catboost_regressor_params=catboost_regressor_params,\n",
    "    poly_degree=1)\n",
    "MAE_scores[\"initial\"] = MAE\n",
    "\n",
    "append_features = seq(\n",
    "    extract_df.columns).filter(lambda x: not x.startswith(\"NIPTS\")).filter(\n",
    "        lambda x: not x in initial_features_search).list()\n",
    "while len(initial_features_search) < len(\n",
    "        seq(extract_df.columns).filter(\n",
    "            lambda x: not x.startswith(\"NIPTS\")).list()):\n",
    "    append_feature = random.sample(append_features,k=1)[0]\n",
    "    append_features.pop(append_features.index(append_feature))\n",
    "    initial_features_search.append(append_feature)\n",
    "    X = extract_df[initial_features_search]\n",
    "    model, MAE, importances_res = get_importance_from_regressor(\n",
    "        X=X,\n",
    "        y=y,\n",
    "        catboost_regressor_params=catboost_regressor_params,\n",
    "        poly_degree=1)\n",
    "    MAE_scores[f\"add-{append_feature}\"] = MAE\n",
    "\n",
    "fig, ax = plt.subplots(1, figsize=(6.5, 5))\n",
    "ax.plot(range(len(MAE_scores)), MAE_scores.values(), marker=\"o\")\n",
    "plt.show()"
   ]
  },
  {
   "cell_type": "markdown",
   "metadata": {},
   "source": [
    "### Best Model"
   ]
  },
  {
   "cell_type": "code",
   "execution_count": 53,
   "metadata": {},
   "outputs": [
    {
     "data": {
      "text/plain": [
       "[('add-SPL_2000_arimean', 9.007755040758655),\n",
       " ('add-FK_8000_geomean', 9.141586274423497),\n",
       " ('add-SPL_2000_geomean', 9.207603809761789),\n",
       " ('add-FK_2000_median', 9.224980874417811),\n",
       " ('add-FK_250_geomean', 9.247099150167017)]"
      ]
     },
     "execution_count": 53,
     "metadata": {},
     "output_type": "execute_result"
    }
   ],
   "source": [
    "seq(MAE_scores.items()).sorted(lambda x: x[1]).list()[:5]"
   ]
  },
  {
   "cell_type": "code",
   "execution_count": 50,
   "metadata": {},
   "outputs": [
    {
     "data": {
      "text/plain": [
       "['LAeq',\n",
       " 'LCeq',\n",
       " 'Leq',\n",
       " 'LAeq_adjust_segment_ari_A+A',\n",
       " 'LCeq_adjust_segment_ari_C+C',\n",
       " 'LAeq_adjust_total_ari_A+A',\n",
       " 'LCeq_adjust_total_ari_C+C',\n",
       " 'LAeq_adjust_total_geo_A+A',\n",
       " 'LCeq_adjust_total_geo_C+C',\n",
       " 'log-kurtosis_geomean',\n",
       " 'SPL_8000_arimean',\n",
       " 'SPL_500_arimean',\n",
       " 'backwards-kurtosis_geomean',\n",
       " 'IAeq',\n",
       " 'FK_16000_geomean',\n",
       " 'ICeq',\n",
       " 'FK_500_median',\n",
       " 'SPL_1000_geomean',\n",
       " 'FK_125_arimean',\n",
       " 'FK_2000_median',\n",
       " 'log-A_kurtosis_geomean',\n",
       " 'A_kurtosis_geomean',\n",
       " 'C_kurtosis_geomean',\n",
       " 'FK_16000_arimean',\n",
       " 'IAeq',\n",
       " 'SPL_8000_geomean',\n",
       " 'FK_63_median',\n",
       " 'A_kurtosis_geomean',\n",
       " 'log-A_kurtosis_geomean',\n",
       " 'SPL_125_geomean',\n",
       " 'LCeq_adjust_total_ari_C+n',\n",
       " 'LAeq_adjust_segment_ari_A+n',\n",
       " 'SPL_8000_arimean',\n",
       " 'LAeq_adjust_total_geo_A+n',\n",
       " 'SPL_63_geomean',\n",
       " 'FK_250_median',\n",
       " 'SPL_16000_arimean',\n",
       " 'SPL_250_arimean',\n",
       " 'FK_8000_geomean',\n",
       " 'SPL_250_arimean',\n",
       " 'Leq_1000',\n",
       " 'Leq_63',\n",
       " 'LAeq_adjust_total_ari_A+n',\n",
       " 'LAeq_adjust_total_ari_A+n',\n",
       " 'SPL_2000_geomean',\n",
       " 'FK_63_arimean',\n",
       " 'SPL_2000_geomean',\n",
       " 'FK_16000_arimean',\n",
       " 'FK_500_geomean',\n",
       " 'C_kurtosis_geomean',\n",
       " 'FK_63_geomean',\n",
       " 'Leq_8000',\n",
       " 'SPL_63_geomean',\n",
       " 'LAeq_adjust_segment_ari_A+n',\n",
       " 'Leq_2000',\n",
       " 'FK_16000_median',\n",
       " 'SPL_2000_geomean',\n",
       " 'SPL_8000_geomean',\n",
       " 'A_kurtosis_geomean',\n",
       " 'Leq_63',\n",
       " 'LAeq_adjust_total_geo_A+n',\n",
       " 'log-A_kurtosis_geomean',\n",
       " 'SPL_4000_geomean',\n",
       " 'SPL_8000_median',\n",
       " 'SPL_4000_arimean',\n",
       " 'FK_125_geomean',\n",
       " 'SPL_63_arimean',\n",
       " 'kurtosis_geomean',\n",
       " 'FK_1000_arimean',\n",
       " 'SPL_4000_arimean',\n",
       " 'SPL_63_median',\n",
       " 'SPL_63_geomean',\n",
       " 'kurtosis_geomean',\n",
       " 'LAeq_adjust_total_ari_A+n',\n",
       " 'SPL_1000_arimean',\n",
       " 'FK_125_arimean',\n",
       " 'LAeq_adjust_total_geo_A+n',\n",
       " 'SPL_63_geomean',\n",
       " 'A_kurtosis_geomean',\n",
       " 'FK_125_geomean',\n",
       " 'SPL_63_geomean',\n",
       " 'LCeq_adjust_total_ari_C+n',\n",
       " 'SPL_1000_arimean',\n",
       " 'SPL_8000_geomean',\n",
       " 'FK_2000_geomean',\n",
       " 'FK_4000_median',\n",
       " 'SPL_8000_geomean',\n",
       " 'Leq_250',\n",
       " 'LCeq_adjust_total_geo_C+n',\n",
       " 'SPL_8000_median',\n",
       " 'SPL_250_geomean']"
      ]
     },
     "execution_count": 50,
     "metadata": {},
     "output_type": "execute_result"
    }
   ],
   "source": [
    "initial_features_search"
   ]
  },
  {
   "cell_type": "code",
   "execution_count": 37,
   "metadata": {},
   "outputs": [
    {
     "name": "stdout",
     "output_type": "stream",
     "text": [
      "0:\tlearn: 11.7934137\ttotal: 61.5ms\tremaining: 6.09s\n",
      "50:\tlearn: 7.1927768\ttotal: 2.88s\tremaining: 2.76s\n"
     ]
    },
    {
     "name": "stderr",
     "output_type": "stream",
     "text": [
      "\u001b[32m2024-01-08 17:20:26.928\u001b[0m | \u001b[1mINFO    \u001b[0m | \u001b[36mcomparasion_between_AC\u001b[0m:\u001b[36mget_importance_from_regressor\u001b[0m:\u001b[36m174\u001b[0m - \u001b[1mALL feature for model NIPTS: MAE = 9.5226\u001b[0m\n"
     ]
    },
    {
     "name": "stdout",
     "output_type": "stream",
     "text": [
      "99:\tlearn: 4.8979124\ttotal: 5.51s\tremaining: 0us\n"
     ]
    }
   ],
   "source": [
    "useful_features = initial_features_search[:initial_features_search.index(\"FK_63_arimean\")+1]\n",
    "X = extract_df[useful_features]\n",
    "y = extract_df[\"NIPTS\"]\n",
    "model, MAE, importances_res = get_importance_from_regressor(\n",
    "    X=X,\n",
    "    y=y,\n",
    "    catboost_regressor_params=catboost_regressor_params,\n",
    "    poly_degree=1)"
   ]
  },
  {
   "cell_type": "code",
   "execution_count": null,
   "metadata": {},
   "outputs": [],
   "source": []
  }
 ],
 "metadata": {
  "kernelspec": {
   "display_name": "Python 3",
   "language": "python",
   "name": "python3"
  },
  "language_info": {
   "codemirror_mode": {
    "name": "ipython",
    "version": 3
   },
   "file_extension": ".py",
   "mimetype": "text/x-python",
   "name": "python",
   "nbconvert_exporter": "python",
   "pygments_lexer": "ipython3",
   "version": "3.11.3"
  }
 },
 "nbformat": 4,
 "nbformat_minor": 2
}
