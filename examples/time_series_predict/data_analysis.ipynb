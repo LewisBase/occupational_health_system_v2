{
 "cells": [
  {
   "cell_type": "code",
   "execution_count": 1,
   "metadata": {},
   "outputs": [],
   "source": [
    "import pandas as pd\n",
    "import numpy as np\n",
    "from functional import seq"
   ]
  },
  {
   "cell_type": "code",
   "execution_count": 43,
   "metadata": {},
   "outputs": [
    {
     "data": {
      "text/html": [
       "<div>\n",
       "<style scoped>\n",
       "    .dataframe tbody tr th:only-of-type {\n",
       "        vertical-align: middle;\n",
       "    }\n",
       "\n",
       "    .dataframe tbody tr th {\n",
       "        vertical-align: top;\n",
       "    }\n",
       "\n",
       "    .dataframe thead th {\n",
       "        text-align: right;\n",
       "    }\n",
       "</style>\n",
       "<table border=\"1\" class=\"dataframe\">\n",
       "  <thead>\n",
       "    <tr style=\"text-align: right;\">\n",
       "      <th></th>\n",
       "      <th>physical_exam_conclusion</th>\n",
       "      <th>physical_exam_conclusion_detail</th>\n",
       "    </tr>\n",
       "  </thead>\n",
       "  <tbody>\n",
       "    <tr>\n",
       "      <th>0</th>\n",
       "      <td>二氯甲烷_职业禁忌证;甲苯_其他疾病或异常;乙酸乙酯_其他疾病或异常;四氢呋喃_其他疾病或异...</td>\n",
       "      <td>二氯甲烷_慢性肝病;甲苯_舒张压异常;乙酸乙酯_舒张压异常;四氢呋喃_舒张压异常;异丙醇_舒...</td>\n",
       "    </tr>\n",
       "    <tr>\n",
       "      <th>1</th>\n",
       "      <td>以上未提及的可导致职业病的其他化学因素_职业禁忌证;高温(高温作业)_职业禁忌证;乙酸_其他...</td>\n",
       "      <td>以上未提及的可导致职业病的其他化学因素_慢性肝病;高温(高温作业)_未控制的糖尿病;乙酸_谷...</td>\n",
       "    </tr>\n",
       "    <tr>\n",
       "      <th>2</th>\n",
       "      <td>粉尘类_其他疾病或异常;噪声_职业禁忌证;高温(高温作业)_其他疾病或异常</td>\n",
       "      <td>粉尘类_超重,肝功能轻度升高,肺微小结节影（边界欠清）;噪声_高频段3000Hz，4000H...</td>\n",
       "    </tr>\n",
       "    <tr>\n",
       "      <th>3</th>\n",
       "      <td>二氯甲烷_职业禁忌证;甲苯_其他疾病或异常;乙酸乙酯_其他疾病或异常;四氢呋喃_其他疾病或异...</td>\n",
       "      <td>二氯甲烷_慢性肝病;甲苯_谷丙转氨酶异常;乙酸乙酯_谷丙转氨酶异常;四氢呋喃_谷丙转氨酶异常...</td>\n",
       "    </tr>\n",
       "    <tr>\n",
       "      <th>4</th>\n",
       "      <td>二氯甲烷_职业禁忌证;甲苯_其他疾病或异常;乙酸乙酯_其他疾病或异常;四氢呋喃_其他疾病或异...</td>\n",
       "      <td>二氯甲烷_慢性肝病;甲苯_肝胆脾异常;乙酸乙酯_肝胆脾异常;四氢呋喃_肝胆脾异常;异丙醇_肝...</td>\n",
       "    </tr>\n",
       "  </tbody>\n",
       "</table>\n",
       "</div>"
      ],
      "text/plain": [
       "                            physical_exam_conclusion  \\\n",
       "0  二氯甲烷_职业禁忌证;甲苯_其他疾病或异常;乙酸乙酯_其他疾病或异常;四氢呋喃_其他疾病或异...   \n",
       "1  以上未提及的可导致职业病的其他化学因素_职业禁忌证;高温(高温作业)_职业禁忌证;乙酸_其他...   \n",
       "2              粉尘类_其他疾病或异常;噪声_职业禁忌证;高温(高温作业)_其他疾病或异常   \n",
       "3  二氯甲烷_职业禁忌证;甲苯_其他疾病或异常;乙酸乙酯_其他疾病或异常;四氢呋喃_其他疾病或异...   \n",
       "4  二氯甲烷_职业禁忌证;甲苯_其他疾病或异常;乙酸乙酯_其他疾病或异常;四氢呋喃_其他疾病或异...   \n",
       "\n",
       "                     physical_exam_conclusion_detail  \n",
       "0  二氯甲烷_慢性肝病;甲苯_舒张压异常;乙酸乙酯_舒张压异常;四氢呋喃_舒张压异常;异丙醇_舒...  \n",
       "1  以上未提及的可导致职业病的其他化学因素_慢性肝病;高温(高温作业)_未控制的糖尿病;乙酸_谷...  \n",
       "2  粉尘类_超重,肝功能轻度升高,肺微小结节影（边界欠清）;噪声_高频段3000Hz，4000H...  \n",
       "3  二氯甲烷_慢性肝病;甲苯_谷丙转氨酶异常;乙酸乙酯_谷丙转氨酶异常;四氢呋喃_谷丙转氨酶异常...  \n",
       "4  二氯甲烷_慢性肝病;甲苯_肝胆脾异常;乙酸乙酯_肝胆脾异常;四氢呋喃_肝胆脾异常;异丙醇_肝...  "
      ]
     },
     "execution_count": 43,
     "metadata": {},
     "output_type": "execute_result"
    }
   ],
   "source": [
    "original_df = pd.read_csv(\"./cache/occupational_category_match.csv\")\n",
    "original_df.head()"
   ]
  },
  {
   "cell_type": "markdown",
   "metadata": {},
   "source": [
    "# 拆分为键值对"
   ]
  },
  {
   "cell_type": "code",
   "execution_count": 126,
   "metadata": {},
   "outputs": [
    {
     "data": {
      "text/plain": [
       "{'其他疾病或异常', '复查', '疑似职业病', '目前未见异常', '职业禁忌证'}"
      ]
     },
     "execution_count": 126,
     "metadata": {},
     "output_type": "execute_result"
    }
   ],
   "source": [
    "seq(original_df[\"physical_exam_conclusion\"].values).map(lambda x: seq(x.split(\";\")).map(lambda x: x.split(\"_\")[1]).set()).flatten().set()"
   ]
  },
  {
   "cell_type": "code",
   "execution_count": 71,
   "metadata": {},
   "outputs": [],
   "source": [
    "def split_2nd(x):\n",
    "    if x is not None:\n",
    "        list_1st = seq(x.split(\";\")).filter(lambda x: x!=\"\")\n",
    "        try:\n",
    "            res = list_1st.map(lambda x: (x.split(\"_\")[0], x.split(\"_\")[1]) if len(x.split(\"_\"))==2 else None).filter(lambda x: x is not None).dict()\n",
    "            return res\n",
    "        except IndexError:\n",
    "            print(x)\n",
    "    else:\n",
    "        return None"
   ]
  },
  {
   "cell_type": "code",
   "execution_count": 72,
   "metadata": {},
   "outputs": [],
   "source": [
    "original_df[\"physical_exam_conclusion_dict\"] = original_df[\"physical_exam_conclusion\"].apply(split_2nd)\n",
    "original_df[\"physical_exam_conclusion_detail_dict\"] = original_df[\"physical_exam_conclusion_detail\"].apply(split_2nd)"
   ]
  },
  {
   "cell_type": "markdown",
   "metadata": {},
   "source": [
    "# 匹配相同键，拼接值为新的字典\n",
    "\n",
    "如需保留具体危害因素以进行更多分析，需加入harzard字段"
   ]
  },
  {
   "cell_type": "code",
   "execution_count": 82,
   "metadata": {},
   "outputs": [],
   "source": [
    "def type_match(row):\n",
    "    dict1 = row[\"physical_exam_conclusion_dict\"]\n",
    "    dict2 = row[\"physical_exam_conclusion_detail_dict\"]\n",
    "    merged_dict = {}\n",
    "    common_keys = set(dict1.keys()).intersection(dict2.keys())\n",
    "    for key in common_keys:\n",
    "        # merged_dict[key] = (dict1[key], dict2[key])\n",
    "        merged_dict.update({dict1[key]:dict2[key]})\n",
    "    return merged_dict"
   ]
  },
  {
   "cell_type": "code",
   "execution_count": 84,
   "metadata": {},
   "outputs": [
    {
     "data": {
      "text/plain": [
       "0                    {'职业禁忌证': '慢性肝病', '其他疾病或异常': '舒张压异常'}\n",
       "1             {'职业禁忌证': '慢性肝病', '其他疾病或异常': '谷草转氨酶（AST）异常'}\n",
       "2        {'其他疾病或异常': '超重,肝功能轻度升高,肺微小结节影（边界欠清）', '职业禁忌证'...\n",
       "3                  {'职业禁忌证': '慢性肝病', '其他疾病或异常': '谷丙转氨酶异常'}\n",
       "4                    {'职业禁忌证': '慢性肝病', '其他疾病或异常': '肝胆脾异常'}\n",
       "                               ...                        \n",
       "40507    {'职业禁忌证': '除噪声外各种原因引起的永久性感音神经性听力损失（500Hz，l000H...\n",
       "40508    {'职业禁忌证': '各种原因引起永久性感音神经性听力损失（500Hz、1000Hz和200...\n",
       "40509    {'职业禁忌证': '各种原因引起永久性感音神经性听力损失（500Hz、1000Hz和200...\n",
       "40510    {'职业禁忌证': '各种原因引起永久性感音神经性听力损失（500Hz、1000Hz和200...\n",
       "40511                  {'职业禁忌证': '任一耳传导性耳聋，平均语频听力损失≥41dB'}\n",
       "Length: 40512, dtype: object"
      ]
     },
     "execution_count": 84,
     "metadata": {},
     "output_type": "execute_result"
    }
   ],
   "source": [
    "disease_se = original_df.apply(type_match, axis=1)\n",
    "disease_se"
   ]
  },
  {
   "cell_type": "markdown",
   "metadata": {},
   "source": [
    "# 去重，保留职业禁忌症进行关键词归类"
   ]
  },
  {
   "cell_type": "code",
   "execution_count": 100,
   "metadata": {},
   "outputs": [],
   "source": [
    "final_res = []\n",
    "for object in disease_se:\n",
    "    disease_desc = seq(object.items()).filter(lambda x: x[0]==\"职业禁忌证\").map(lambda x: x[1])[0]\n",
    "    # print(disease_desc)\n",
    "    final_res.append(disease_desc)\n",
    "final_res = set(final_res)"
   ]
  },
  {
   "cell_type": "code",
   "execution_count": 112,
   "metadata": {},
   "outputs": [
    {
     "name": "stdout",
     "output_type": "stream",
     "text": [
      "['多发性周围神经病,未控制的糖尿病', '多发性周围神经病', '视网膜及视神经病', '中枢神经系统器质性疾病,高频段3000Hz，4000Hz，6000Hz双耳平均听阈≥40dB', '任一耳传导性耳聋，平均语频听力损失≥41dB,多发性周围神经病', '中枢神经系统及周围神经系统疾病和病史', '中枢神经系统器质性疾病', '腋臭，头癖，泛发性体癣，疥疮，慢性湿疹，神经性皮炎，白癜风，银屑病', '视网膜及视神经病,伴肺功能损害的疾病']\n"
     ]
    }
   ],
   "source": [
    "print(seq(final_res).filter(lambda x: \"神经\" in x and \"神经性听力损失\" not in x))"
   ]
  },
  {
   "cell_type": "code",
   "execution_count": 113,
   "metadata": {},
   "outputs": [],
   "source": [
    "OCCUPATIONAL_DISEASE_TYPE_DICT = {\n",
    "    \"听力\": \"职业性听力损伤\",\n",
    "    \"听阈\": \"职业性听力损伤\",\n",
    "    \"聋\": \"职业性听力损伤\",\n",
    "    \"皮肤\": \"职业性皮肤病\",\n",
    "    \"疹\": \"职业性皮肤病\",\n",
    "    \"血\": \"职业性心血管系统系统疾病\",\n",
    "    \"心脏\": \"职业性心血管系统系统疾病\",\n",
    "    \"心电\": \"职业性心血管系统系统疾病\",\n",
    "    \"呼吸系统\": \"职业性呼吸系统疾病\",\n",
    "    \"肺\": \"职业性呼吸系统疾病\",\n",
    "    \"支气管\": \"职业性呼吸系统疾病\",\n",
    "    \"嗅\": \"职业性呼吸系统疾病\",\n",
    "    \"鼻\": \"职业性呼吸系统疾病\",\n",
    "    \"内分泌\": \"职业性内分泌系统疾病\",\n",
    "    \"甲状腺\": \"职业性内分泌系统疾病\",\n",
    "    \"泌尿\": \"职业性泌尿生殖系统疾病\",\n",
    "    \"糖尿\": \"职业性泌尿生殖系统疾病\",\n",
    "    \"生殖\": \"职业性泌尿生殖系统疾病\",\n",
    "    \"神经系统\": \"职业性神经系统疾病\",\n",
    "    \"周围神经病\": \"职业性神经系统疾病\",\n",
    "    \"视力\": \"职业性眼病\",\n",
    "    \"色\": \"职业性眼病\",\n",
    "    \"盲\": \"职业性眼病\",\n",
    "    \"角膜\": \"职业性眼病\",\n",
    "    \"白内障\": \"职业性眼病\",\n",
    "    \"肝\": \"职业性中毒性肝病\",\n",
    "    \"肾\": \"职业性中毒性肾病\",\n",
    "    \"肿瘤\": \"职业性肿瘤\",\n",
    "    \"放射性\": \"职业性放射性疾病\",\n",
    "    \"骨\": \"职业性骨关节疾病\"\n",
    "}"
   ]
  },
  {
   "cell_type": "markdown",
   "metadata": {},
   "source": [
    "# 职业病种类打标测试"
   ]
  },
  {
   "cell_type": "code",
   "execution_count": 114,
   "metadata": {},
   "outputs": [],
   "source": [
    "import re\n",
    "\n",
    "def disease_mark(x):\n",
    "    res = []\n",
    "    for key, value in OCCUPATIONAL_DISEASE_TYPE_DICT.items():\n",
    "        if key in x:\n",
    "            res.append(value)\n",
    "    return \",\".join(set(res))"
   ]
  },
  {
   "cell_type": "code",
   "execution_count": 115,
   "metadata": {},
   "outputs": [
    {
     "data": {
      "text/plain": [
       "0                          职业性中毒性肝病\n",
       "1              职业性泌尿生殖系统疾病,职业性中毒性肝病\n",
       "2        职业性中毒性肝病,职业性听力损伤,职业性呼吸系统疾病\n",
       "3                          职业性中毒性肝病\n",
       "4                          职业性中毒性肝病\n",
       "                    ...            \n",
       "40507                       职业性听力损伤\n",
       "40508                       职业性听力损伤\n",
       "40509                       职业性听力损伤\n",
       "40510                       职业性听力损伤\n",
       "40511                       职业性听力损伤\n",
       "Name: physical_exam_conclusion_detail, Length: 40512, dtype: object"
      ]
     },
     "execution_count": 115,
     "metadata": {},
     "output_type": "execute_result"
    }
   ],
   "source": [
    "original_df[\"physical_exam_conclusion_detail\"].apply(disease_mark)"
   ]
  },
  {
   "cell_type": "markdown",
   "metadata": {},
   "source": [
    "# 功能代码测试"
   ]
  },
  {
   "cell_type": "code",
   "execution_count": 7,
   "metadata": {},
   "outputs": [
    {
     "name": "stdout",
     "output_type": "stream",
     "text": [
      "        Date  Value  RollingSum\n",
      "0 2022-01-01      1           1\n",
      "1 2022-01-02      2           3\n",
      "2 2022-01-03      3           6\n",
      "3 2022-01-04      4          10\n",
      "4 2022-01-05      5          15\n"
     ]
    }
   ],
   "source": [
    "import pandas as pd\n",
    "\n",
    "# 创建示例数据\n",
    "data = {'Date': ['2022-01-01', '2022-01-02', '2022-01-03', '2022-01-04', '2022-01-05'],\n",
    "        'Value': [1, 2, 3, 4, 5]}\n",
    "df = pd.DataFrame(data)\n",
    "\n",
    "# 将 'Date' 列转换为日期类型\n",
    "df['Date'] = pd.to_datetime(df['Date'])\n",
    "\n",
    "# 按日期进行滚动累加\n",
    "df['RollingSum'] = df['Value'].cumsum()\n",
    "\n",
    "# 打印结果\n",
    "print(df)"
   ]
  },
  {
   "cell_type": "code",
   "execution_count": null,
   "metadata": {},
   "outputs": [],
   "source": []
  }
 ],
 "metadata": {
  "kernelspec": {
   "display_name": "base",
   "language": "python",
   "name": "python3"
  },
  "language_info": {
   "codemirror_mode": {
    "name": "ipython",
    "version": 3
   },
   "file_extension": ".py",
   "mimetype": "text/x-python",
   "name": "python",
   "nbconvert_exporter": "python",
   "pygments_lexer": "ipython3",
   "version": "3.11.3"
  }
 },
 "nbformat": 4,
 "nbformat_minor": 2
}
