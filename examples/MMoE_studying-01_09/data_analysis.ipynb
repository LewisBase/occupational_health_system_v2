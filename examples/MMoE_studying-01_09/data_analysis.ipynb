{
 "cells": [
  {
   "cell_type": "markdown",
   "metadata": {},
   "source": [
    "# Preparation\n",
    "## Import Module"
   ]
  },
  {
   "cell_type": "code",
   "execution_count": 1,
   "metadata": {},
   "outputs": [],
   "source": [
    "import re\n",
    "import ast\n",
    "import pickle\n",
    "import random\n",
    "import pandas as pd\n",
    "import numpy as np \n",
    "import matplotlib.pyplot as plt\n",
    "import seaborn as sns\n",
    "from pathlib import Path\n",
    "from functional import seq\n",
    "from loguru import logger\n",
    "\n",
    "from scipy.stats import pearsonr\n",
    "from sklearn.preprocessing import PolynomialFeatures\n",
    "from sklearn.feature_selection import SelectKBest, RFE\n",
    "from sklearn.model_selection import train_test_split, GridSearchCV\n",
    "from sklearn.svm import SVR\n",
    "from sklearn.ensemble import RandomForestRegressor\n",
    "from sklearn.metrics import mean_absolute_error\n",
    "\n",
    "from catboost import CatBoostRegressor, Pool, cv\n",
    "\n",
    "from matplotlib.font_manager import FontProperties\n",
    "from matplotlib import rcParams\n",
    "\n",
    "config = {\n",
    "            \"font.family\": \"serif\",\n",
    "            \"font.size\": 12,\n",
    "            \"mathtext.fontset\": \"stix\",# matplotlib渲染数学字体时使用的字体，和Times New Roman差别不大\n",
    "            \"font.serif\": [\"STZhongsong\"],# 华文中宋\n",
    "            \"axes.unicode_minus\": False # 处理负号，即-号\n",
    "         }\n",
    "rcParams.update(config)\n",
    "\n",
    "import sys\n",
    "sys.path.append(\".\")\n",
    "sys.path.append(\"D:\\Code\\Mine\\occupational_health_system_v2\")\n",
    "from ML_regression import get_importance_from_regressor\n",
    "from utils.data_helper import dcov_all"
   ]
  },
  {
   "cell_type": "markdown",
   "metadata": {},
   "source": [
    "## Data Loader"
   ]
  },
  {
   "cell_type": "code",
   "execution_count": 3,
   "metadata": {},
   "outputs": [
    {
     "name": "stderr",
     "output_type": "stream",
     "text": [
      "\u001b[32m2024-01-10 11:29:14.734\u001b[0m | \u001b[1mINFO    \u001b[0m | \u001b[36m__main__\u001b[0m:\u001b[36m<module>\u001b[0m:\u001b[36m9\u001b[0m - \u001b[1mX shape: (2777, 70), y shape: (2777,)\u001b[0m\n"
     ]
    }
   ],
   "source": [
    "extract_df = pd.read_csv(\"./results/extract_df.csv\", header=0, index_col=\"staff_id\")\n",
    "extract_df.dropna(how=\"any\", axis=0, inplace=True)\n",
    "model_path = Path(\"./models/\")\n",
    "extract_df.head(1)\n",
    "\n",
    "label_columns = seq(extract_df.columns).filter(lambda x: x.startswith(\"NIPTS\")).list()\n",
    "X_ini = extract_df.drop(label_columns, axis=1)\n",
    "y = extract_df.NIPTS\n",
    "logger.info(f\"X shape: {X_ini.shape}, y shape: {y.shape}\")"
   ]
  },
  {
   "cell_type": "markdown",
   "metadata": {},
   "source": [
    "## Hyperparameter setting"
   ]
  },
  {
   "cell_type": "code",
   "execution_count": 11,
   "metadata": {},
   "outputs": [],
   "source": [
    "catboost_regressor_params = {\n",
    "    \"learning_rate\": 0.05,\n",
    "    \"l2_leaf_reg\": 3,\n",
    "    \"max_depth\": 10,\n",
    "    \"n_estimators\": 10000,\n",
    "    \"early_stopping_rounds\": 1000,\n",
    "    \"eval_metric\": \"RMSE\",\n",
    "    \"metric_period\": 50,\n",
    "    \"od_type\": \"Iter\",\n",
    "    \"loss_function\": \"RMSE\",\n",
    "    \"verbose\": 1000,\n",
    "    \"random_seed\": 42,\n",
    "    \"task_type\": \"CPU\"\n",
    "}"
   ]
  },
  {
   "cell_type": "markdown",
   "metadata": {},
   "source": [
    "# Feature Engineering\n",
    "## Mannual selection"
   ]
  },
  {
   "cell_type": "code",
   "execution_count": 4,
   "metadata": {},
   "outputs": [
    {
     "data": {
      "text/plain": [
       "Index(['Leq', 'LAeq', 'LAeq_adjust_total_ari_A+n', 'LAeq_adjust_total_geo_A+n',\n",
       "       'LAeq_adjust_segment_ari_A+n', 'kurtosis_geomean', 'max_Peak_SPL_dB',\n",
       "       'FK_63_arimean', 'FK_63_median', 'FK_63_geomean', 'FK_125_arimean',\n",
       "       'FK_125_median', 'FK_125_geomean', 'FK_250_arimean', 'FK_250_median',\n",
       "       'FK_250_geomean', 'FK_500_arimean', 'FK_500_median', 'FK_500_geomean',\n",
       "       'FK_1000_arimean', 'FK_1000_median', 'FK_1000_geomean',\n",
       "       'FK_2000_arimean', 'FK_2000_median', 'FK_2000_geomean',\n",
       "       'FK_4000_arimean', 'FK_4000_median', 'FK_4000_geomean',\n",
       "       'FK_8000_arimean', 'FK_8000_median', 'FK_8000_geomean',\n",
       "       'FK_16000_arimean', 'FK_16000_median', 'FK_16000_geomean',\n",
       "       'SPL_63_arimean', 'SPL_63_median', 'SPL_63_geomean', 'SPL_125_arimean',\n",
       "       'SPL_125_median', 'SPL_125_geomean', 'SPL_250_arimean',\n",
       "       'SPL_250_median', 'SPL_250_geomean', 'SPL_500_arimean',\n",
       "       'SPL_500_median', 'SPL_500_geomean', 'SPL_1000_arimean',\n",
       "       'SPL_1000_median', 'SPL_1000_geomean', 'SPL_2000_arimean',\n",
       "       'SPL_2000_median', 'SPL_2000_geomean', 'SPL_4000_arimean',\n",
       "       'SPL_4000_median', 'SPL_4000_geomean', 'SPL_8000_arimean',\n",
       "       'SPL_8000_median', 'SPL_8000_geomean', 'SPL_16000_arimean',\n",
       "       'SPL_16000_median', 'SPL_16000_geomean', 'Leq_63', 'Leq_125', 'Leq_250',\n",
       "       'Leq_500', 'Leq_1000', 'Leq_2000', 'Leq_4000', 'Leq_8000', 'Leq_16000'],\n",
       "      dtype='object')"
      ]
     },
     "execution_count": 4,
     "metadata": {},
     "output_type": "execute_result"
    }
   ],
   "source": [
    "X_ini.columns"
   ]
  },
  {
   "cell_type": "code",
   "execution_count": 12,
   "metadata": {},
   "outputs": [
    {
     "name": "stdout",
     "output_type": "stream",
     "text": [
      "0:\tlearn: 13.1874427\ttotal: 45.8ms\tremaining: 7m 37s\n",
      "1000:\tlearn: 5.0171741\ttotal: 29.8s\tremaining: 4m 27s\n",
      "2000:\tlearn: 2.5971100\ttotal: 59.2s\tremaining: 3m 56s\n",
      "3000:\tlearn: 1.6560940\ttotal: 1m 29s\tremaining: 3m 27s\n",
      "4000:\tlearn: 1.3069567\ttotal: 1m 58s\tremaining: 2m 58s\n",
      "5000:\tlearn: 1.1903178\ttotal: 2m 28s\tremaining: 2m 28s\n",
      "6000:\tlearn: 1.1495369\ttotal: 2m 58s\tremaining: 1m 58s\n",
      "7000:\tlearn: 1.1352887\ttotal: 3m 28s\tremaining: 1m 29s\n",
      "8000:\tlearn: 1.1304165\ttotal: 3m 58s\tremaining: 59.5s\n",
      "9000:\tlearn: 1.1287574\ttotal: 4m 28s\tremaining: 29.8s\n",
      "9999:\tlearn: 1.1281869\ttotal: 4m 58s\tremaining: 0us\n"
     ]
    },
    {
     "name": "stderr",
     "output_type": "stream",
     "text": [
      "\u001b[32m2024-01-10 11:49:57.112\u001b[0m | \u001b[1mINFO    \u001b[0m | \u001b[36mML_regression\u001b[0m:\u001b[36mget_importance_from_regressor\u001b[0m:\u001b[36m178\u001b[0m - \u001b[1mALL feature for model NIPTS: MAE = 10.0233\u001b[0m\n"
     ]
    }
   ],
   "source": [
    "initial_features_search = [\n",
    "    \"Leq\",\n",
    "    \"LAeq\",\n",
    "    \"LAeq_adjust_total_ari_A+n\",\n",
    "    \"LAeq_adjust_total_geo_A+n\",\n",
    "    \"LAeq_adjust_segment_ari_A+n\",\n",
    "    \"max_Peak_SPL_dB\"\n",
    "]\n",
    "\n",
    "X = X_ini[initial_features_search]\n",
    "poly = PolynomialFeatures(degree=2, interaction_only=True, include_bias=False)\n",
    "X = pd.DataFrame(poly.fit_transform(X), columns=poly.get_feature_names_out(), index=X.index)\n",
    "select_features = []\n",
    "X_use = X if select_features == [] else X[select_features]\n",
    "y = extract_df[\"NIPTS\"]\n",
    "model, MAE, importances_res = get_importance_from_regressor(\n",
    "    X=X_use,\n",
    "    y=y,\n",
    "    catboost_regressor_params=catboost_regressor_params,\n",
    "    poly_degree=1)"
   ]
  },
  {
   "cell_type": "code",
   "execution_count": 13,
   "metadata": {},
   "outputs": [
    {
     "data": {
      "text/plain": [
       "{'Leq max_Peak_SPL_dB': 8.071295271640118,\n",
       " 'max_Peak_SPL_dB': 8.062830826625433,\n",
       " 'Leq': 6.380387318734678,\n",
       " 'LAeq_adjust_segment_ari_A+n': 5.909217963349057,\n",
       " 'LAeq max_Peak_SPL_dB': 5.402497671829535,\n",
       " 'LAeq_adjust_total_ari_A+n max_Peak_SPL_dB': 5.376751997966503,\n",
       " 'LAeq_adjust_segment_ari_A+n max_Peak_SPL_dB': 5.015729644841562,\n",
       " 'LAeq': 4.817260453891942,\n",
       " 'LAeq_adjust_total_geo_A+n max_Peak_SPL_dB': 4.650797570133065,\n",
       " 'LAeq_adjust_total_ari_A+n': 4.622570595604909,\n",
       " 'Leq LAeq_adjust_segment_ari_A+n': 4.445525167936961,\n",
       " 'Leq LAeq_adjust_total_ari_A+n': 4.375956416199019,\n",
       " 'Leq LAeq': 4.234543517818188,\n",
       " 'LAeq_adjust_total_geo_A+n': 4.131337975569324,\n",
       " 'LAeq_adjust_total_ari_A+n LAeq_adjust_segment_ari_A+n': 3.831107290839184,\n",
       " 'LAeq_adjust_total_geo_A+n LAeq_adjust_segment_ari_A+n': 3.8112260562990836,\n",
       " 'Leq LAeq_adjust_total_geo_A+n': 3.6996861277540276,\n",
       " 'LAeq LAeq_adjust_segment_ari_A+n': 3.664861905165756,\n",
       " 'LAeq LAeq_adjust_total_geo_A+n': 3.2790964047071616,\n",
       " 'LAeq LAeq_adjust_total_ari_A+n': 3.2546968545410873,\n",
       " 'LAeq_adjust_total_ari_A+n LAeq_adjust_total_geo_A+n': 2.9626229685534136}"
      ]
     },
     "execution_count": 13,
     "metadata": {},
     "output_type": "execute_result"
    }
   ],
   "source": [
    "seq(importances_res.items()).sorted(lambda x: x[1], reverse=True).dict()"
   ]
  },
  {
   "cell_type": "code",
   "execution_count": 14,
   "metadata": {},
   "outputs": [
    {
     "name": "stdout",
     "output_type": "stream",
     "text": [
      "0:\tlearn: 13.1903747\ttotal: 24.6ms\tremaining: 4m 6s\n",
      "1000:\tlearn: 5.5904971\ttotal: 20.5s\tremaining: 3m 4s\n",
      "2000:\tlearn: 3.0827863\ttotal: 40.8s\tremaining: 2m 43s\n",
      "3000:\tlearn: 1.9601120\ttotal: 1m 1s\tremaining: 2m 22s\n",
      "4000:\tlearn: 1.4662906\ttotal: 1m 21s\tremaining: 2m 2s\n",
      "5000:\tlearn: 1.2649872\ttotal: 1m 42s\tremaining: 1m 42s\n",
      "6000:\tlearn: 1.1816341\ttotal: 2m 3s\tremaining: 1m 22s\n",
      "7000:\tlearn: 1.1498894\ttotal: 2m 23s\tremaining: 1m 1s\n",
      "8000:\tlearn: 1.1369503\ttotal: 2m 44s\tremaining: 41.1s\n",
      "9000:\tlearn: 1.1320392\ttotal: 3m 5s\tremaining: 20.6s\n",
      "9999:\tlearn: 1.1300397\ttotal: 3m 26s\tremaining: 0us\n"
     ]
    },
    {
     "name": "stderr",
     "output_type": "stream",
     "text": [
      "\u001b[32m2024-01-10 11:53:25.667\u001b[0m | \u001b[1mINFO    \u001b[0m | \u001b[36mML_regression\u001b[0m:\u001b[36mget_importance_from_regressor\u001b[0m:\u001b[36m178\u001b[0m - \u001b[1mALL feature for model NIPTS: MAE = 10.1413\u001b[0m\n"
     ]
    },
    {
     "data": {
      "text/plain": [
       "{'max_Peak_SPL_dB': 10.183669682354065,\n",
       " 'LAeq max_Peak_SPL_dB': 9.487454911544583,\n",
       " 'LAeq_adjust_segment_ari_A+n': 9.328508315815546,\n",
       " 'LAeq': 7.20254116972745,\n",
       " 'LAeq_adjust_total_geo_A+n max_Peak_SPL_dB': 7.03794881278862,\n",
       " 'LAeq_adjust_total_ari_A+n max_Peak_SPL_dB': 6.952064140492844,\n",
       " 'LAeq_adjust_segment_ari_A+n max_Peak_SPL_dB': 6.677146755076736,\n",
       " 'LAeq LAeq_adjust_segment_ari_A+n': 6.507517184413413,\n",
       " 'LAeq_adjust_total_ari_A+n': 6.429652458185565,\n",
       " 'LAeq_adjust_total_geo_A+n': 6.056934954623981,\n",
       " 'LAeq_adjust_total_geo_A+n LAeq_adjust_segment_ari_A+n': 5.080337462653411,\n",
       " 'LAeq LAeq_adjust_total_ari_A+n': 5.009044964291197,\n",
       " 'LAeq LAeq_adjust_total_geo_A+n': 4.95204705585211,\n",
       " 'LAeq_adjust_total_ari_A+n LAeq_adjust_segment_ari_A+n': 4.60767783371868,\n",
       " 'LAeq_adjust_total_ari_A+n LAeq_adjust_total_geo_A+n': 4.48745429846183}"
      ]
     },
     "execution_count": 14,
     "metadata": {},
     "output_type": "execute_result"
    }
   ],
   "source": [
    "initial_features_search = [\n",
    "    \"LAeq\",\n",
    "    \"LAeq_adjust_total_ari_A+n\",\n",
    "    \"LAeq_adjust_total_geo_A+n\",\n",
    "    \"LAeq_adjust_segment_ari_A+n\",\n",
    "    \"max_Peak_SPL_dB\"\n",
    "]\n",
    "\n",
    "X = X_ini[initial_features_search]\n",
    "poly = PolynomialFeatures(degree=2, interaction_only=True, include_bias=False)\n",
    "X = pd.DataFrame(poly.fit_transform(X), columns=poly.get_feature_names_out(), index=X.index)\n",
    "select_features = []\n",
    "X_use = X if select_features == [] else X[select_features]\n",
    "y = extract_df[\"NIPTS\"]\n",
    "model, MAE, importances_res = get_importance_from_regressor(\n",
    "    X=X_use,\n",
    "    y=y,\n",
    "    catboost_regressor_params=catboost_regressor_params,\n",
    "    poly_degree=1)\n",
    "\n",
    "seq(importances_res.items()).sorted(lambda x: x[1], reverse=True).dict()"
   ]
  },
  {
   "cell_type": "code",
   "execution_count": 23,
   "metadata": {},
   "outputs": [
    {
     "name": "stdout",
     "output_type": "stream",
     "text": [
      "0:\tlearn: 13.1898729\ttotal: 13.7ms\tremaining: 2m 16s\n",
      "1000:\tlearn: 7.0046317\ttotal: 10s\tremaining: 1m 30s\n",
      "2000:\tlearn: 4.7655128\ttotal: 20s\tremaining: 1m 19s\n",
      "3000:\tlearn: 3.4998077\ttotal: 30s\tremaining: 1m 9s\n",
      "4000:\tlearn: 2.7793133\ttotal: 40s\tremaining: 60s\n",
      "5000:\tlearn: 2.3827251\ttotal: 50s\tremaining: 49.9s\n",
      "6000:\tlearn: 2.1624521\ttotal: 60s\tremaining: 40s\n",
      "7000:\tlearn: 2.0399175\ttotal: 1m 9s\tremaining: 30s\n",
      "8000:\tlearn: 1.9681597\ttotal: 1m 19s\tremaining: 20s\n",
      "9000:\tlearn: 1.9289895\ttotal: 1m 30s\tremaining: 9.99s\n",
      "9999:\tlearn: 1.9077862\ttotal: 1m 40s\tremaining: 0us\n"
     ]
    },
    {
     "name": "stderr",
     "output_type": "stream",
     "text": [
      "\u001b[32m2024-01-10 14:13:12.277\u001b[0m | \u001b[1mINFO    \u001b[0m | \u001b[36mML_regression\u001b[0m:\u001b[36mget_importance_from_regressor\u001b[0m:\u001b[36m178\u001b[0m - \u001b[1mALL feature for model NIPTS: MAE = 10.9381\u001b[0m\n"
     ]
    },
    {
     "data": {
      "text/plain": [
       "{'LAeq_adjust_segment_ari_A+n max_Peak_SPL_dB': 29.961862641852296,\n",
       " 'LAeq_adjust_segment_ari_A+n': 28.051905006142796,\n",
       " 'LAeq max_Peak_SPL_dB': 23.070664871445825,\n",
       " 'LAeq LAeq_adjust_segment_ari_A+n max_Peak_SPL_dB': 18.915567480559076}"
      ]
     },
     "execution_count": 23,
     "metadata": {},
     "output_type": "execute_result"
    }
   ],
   "source": [
    "initial_features_search = [\n",
    "    \"LAeq\",\n",
    "    \"LAeq_adjust_segment_ari_A+n\",\n",
    "    \"max_Peak_SPL_dB\"\n",
    "]\n",
    "\n",
    "X = X_ini[initial_features_search]\n",
    "poly = PolynomialFeatures(degree=3, interaction_only=True, include_bias=False)\n",
    "X = pd.DataFrame(poly.fit_transform(X), columns=poly.get_feature_names_out(), index=X.index)\n",
    "select_features = [\n",
    " 'LAeq_adjust_segment_ari_A+n',\n",
    "#  'max_Peak_SPL_dB',\n",
    "#  'LAeq',\n",
    " 'LAeq max_Peak_SPL_dB',\n",
    " 'LAeq_adjust_segment_ari_A+n max_Peak_SPL_dB',\n",
    " 'LAeq LAeq_adjust_segment_ari_A+n max_Peak_SPL_dB'\n",
    "]\n",
    "X_use = X if select_features == [] else X[select_features]\n",
    "y = extract_df[\"NIPTS\"]\n",
    "model, MAE, importances_res = get_importance_from_regressor(\n",
    "    X=X_use,\n",
    "    y=y,\n",
    "    catboost_regressor_params=catboost_regressor_params,\n",
    "    poly_degree=1)\n",
    "\n",
    "seq(importances_res.items()).sorted(lambda x: x[1], reverse=True).dict()"
   ]
  },
  {
   "cell_type": "markdown",
   "metadata": {},
   "source": [
    "## Freture filter\n",
    "### Pearson coefficient"
   ]
  },
  {
   "cell_type": "code",
   "execution_count": 61,
   "metadata": {},
   "outputs": [
    {
     "data": {
      "image/png": "[encoded data removed]",
      "text/plain": [
       "<Figure size 640x480 with 2 Axes>"
      ]
     },
     "metadata": {},
     "output_type": "display_data"
    }
   ],
   "source": [
    "corr_matrix = X_ini.join(y).corr()\n",
    "sns.heatmap(corr_matrix,annot = False,vmax = 1,square = True,cmap = \"Reds\")\n",
    "plt.show()"
   ]
  },
  {
   "cell_type": "code",
   "execution_count": 66,
   "metadata": {},
   "outputs": [
    {
     "data": {
      "text/plain": [
       "Index(['NIPTS', 'LAeq_adjust_total_ari_A+n', 'LAeq_adjust_total_geo_A+n',\n",
       "       'LAeq_adjust_segment_ari_A+n', 'LAeq', 'Leq_2000', 'Leq_1000',\n",
       "       'Leq_500', 'Leq', 'Leq_4000', 'max_Peak_SPL_dB', 'Leq_8000', 'Leq_250',\n",
       "       'Leq_16000', 'Leq_125', 'SPL_1000_arimean', 'SPL_500_arimean',\n",
       "       'SPL_2000_arimean', 'SPL_1000_geomean', 'SPL_500_geomean',\n",
       "       'SPL_1000_median', 'SPL_2000_geomean', 'SPL_500_median',\n",
       "       'SPL_4000_arimean', 'SPL_2000_median', 'SPL_250_arimean',\n",
       "       'SPL_125_arimean', 'SPL_250_geomean', 'SPL_125_geomean',\n",
       "       'SPL_4000_geomean', 'Leq_63', 'SPL_250_median', 'SPL_125_median',\n",
       "       'SPL_4000_median', 'SPL_8000_arimean', 'kurtosis_geomean',\n",
       "       'SPL_8000_geomean', 'SPL_16000_arimean', 'FK_500_geomean',\n",
       "       'SPL_63_arimean', 'SPL_63_geomean', 'SPL_8000_median',\n",
       "       'FK_1000_geomean', 'SPL_16000_geomean', 'SPL_63_median',\n",
       "       'FK_250_geomean', 'FK_500_median', 'FK_250_median', 'FK_63_arimean',\n",
       "       'SPL_16000_median', 'FK_63_geomean', 'FK_1000_median', 'FK_500_arimean',\n",
       "       'FK_125_geomean', 'FK_2000_geomean', 'FK_250_arimean',\n",
       "       'FK_1000_arimean', 'FK_4000_geomean', 'FK_63_median', 'FK_125_arimean',\n",
       "       'FK_125_median', 'FK_2000_median', 'FK_4000_median', 'FK_16000_arimean',\n",
       "       'FK_2000_arimean', 'FK_4000_arimean', 'FK_8000_arimean',\n",
       "       'FK_8000_median', 'FK_16000_geomean', 'FK_8000_geomean',\n",
       "       'FK_16000_median'],\n",
       "      dtype='object')"
      ]
     },
     "execution_count": 66,
     "metadata": {},
     "output_type": "execute_result"
    }
   ],
   "source": [
    "corr_matrix[\"NIPTS\"].sort_values(ascending=False).index"
   ]
  },
  {
   "cell_type": "code",
   "execution_count": 25,
   "metadata": {},
   "outputs": [
    {
     "data": {
      "text/plain": [
       "count    71.000000\n",
       "mean      0.133579\n",
       "std       0.145214\n",
       "min       0.001172\n",
       "25%       0.030190\n",
       "50%       0.109658\n",
       "75%       0.173193\n",
       "max       1.000000\n",
       "Name: NIPTS, dtype: float64"
      ]
     },
     "execution_count": 25,
     "metadata": {},
     "output_type": "execute_result"
    }
   ],
   "source": [
    "corr_matrix[\"NIPTS\"].abs().describe()"
   ]
  },
  {
   "cell_type": "code",
   "execution_count": 26,
   "metadata": {},
   "outputs": [
    {
     "data": {
      "text/plain": [
       "35"
      ]
     },
     "execution_count": 26,
     "metadata": {},
     "output_type": "execute_result"
    }
   ],
   "source": [
    "pearson_filter_features = seq(\n",
    "    corr_matrix[np.abs(corr_matrix[\"NIPTS\"]) > 0.1].index).filter(\n",
    "        lambda x: not x.startswith(\"NIPTS\")).list()\n",
    "len(pearson_filter_features)"
   ]
  },
  {
   "cell_type": "markdown",
   "metadata": {},
   "source": [
    "### Distance correction coefficient\n",
    "\n",
    "* Select features whose distance correction coefficient with NIPTS value is larger than 0.02 (average value)"
   ]
  },
  {
   "cell_type": "code",
   "execution_count": 67,
   "metadata": {},
   "outputs": [
    {
     "data": {
      "text/plain": [
       "count    70.000000\n",
       "mean      0.024994\n",
       "std       0.031147\n",
       "min       0.001444\n",
       "25%       0.006025\n",
       "50%       0.010290\n",
       "75%       0.026766\n",
       "max       0.117312\n",
       "dtype: float64"
      ]
     },
     "execution_count": 67,
     "metadata": {},
     "output_type": "execute_result"
    }
   ],
   "source": [
    "dcors = {}\n",
    "for col in X_ini.columns:\n",
    "    dcors[col] = dcov_all(X_ini[col].values, y.values)\n",
    "pd.Series(dcors).describe()"
   ]
  },
  {
   "cell_type": "code",
   "execution_count": 69,
   "metadata": {},
   "outputs": [
    {
     "data": {
      "text/plain": [
       "Index(['LAeq_adjust_total_ari_A+n', 'LAeq_adjust_total_geo_A+n',\n",
       "       'LAeq_adjust_segment_ari_A+n', 'LAeq', 'Leq_1000', 'Leq_2000',\n",
       "       'Leq_500', 'Leq', 'max_Peak_SPL_dB', 'Leq_4000', 'Leq_250', 'Leq_8000',\n",
       "       'Leq_125', 'Leq_16000', 'SPL_1000_arimean', 'SPL_500_arimean',\n",
       "       'SPL_2000_arimean', 'SPL_1000_median', 'SPL_1000_geomean',\n",
       "       'SPL_500_geomean', 'SPL_500_median', 'SPL_2000_geomean',\n",
       "       'SPL_2000_median', 'SPL_250_arimean', 'SPL_4000_arimean',\n",
       "       'SPL_125_arimean', 'SPL_250_geomean', 'Leq_63', 'SPL_125_geomean',\n",
       "       'SPL_250_median', 'SPL_4000_geomean', 'SPL_125_median',\n",
       "       'kurtosis_geomean', 'SPL_4000_median', 'FK_63_arimean',\n",
       "       'SPL_8000_arimean', 'FK_500_median', 'FK_500_geomean',\n",
       "       'FK_1000_geomean', 'FK_250_median', 'FK_1000_arimean', 'FK_500_arimean',\n",
       "       'FK_1000_median', 'FK_250_geomean', 'SPL_63_arimean',\n",
       "       'SPL_16000_arimean', 'SPL_8000_geomean', 'FK_125_arimean',\n",
       "       'SPL_63_geomean', 'FK_250_arimean', 'FK_2000_arimean',\n",
       "       'FK_4000_arimean', 'FK_2000_median', 'FK_8000_arimean',\n",
       "       'FK_2000_geomean', 'SPL_63_median', 'FK_16000_arimean', 'FK_63_geomean',\n",
       "       'SPL_16000_geomean', 'SPL_8000_median', 'FK_4000_median',\n",
       "       'FK_4000_geomean', 'FK_16000_geomean', 'FK_125_geomean',\n",
       "       'FK_8000_geomean', 'FK_125_median', 'FK_63_median', 'SPL_16000_median',\n",
       "       'FK_16000_median', 'FK_8000_median'],\n",
       "      dtype='object')"
      ]
     },
     "execution_count": 69,
     "metadata": {},
     "output_type": "execute_result"
    }
   ],
   "source": [
    "pd.Series(dcors).sort_values(ascending=False).index"
   ]
  },
  {
   "cell_type": "code",
   "execution_count": 28,
   "metadata": {},
   "outputs": [
    {
     "data": {
      "text/plain": [
       "24"
      ]
     },
     "execution_count": 28,
     "metadata": {},
     "output_type": "execute_result"
    }
   ],
   "source": [
    "cdors_filter_features = seq(\n",
    "    dcors.items()).filter(lambda x: x[1] > 0.02).map(lambda x: x[0]).list()\n",
    "len(cdors_filter_features)"
   ]
  },
  {
   "cell_type": "markdown",
   "metadata": {},
   "source": [
    "### Final filter\n",
    "\n",
    "* Select features both in pearson filter and distance filter"
   ]
  },
  {
   "cell_type": "code",
   "execution_count": 29,
   "metadata": {},
   "outputs": [
    {
     "data": {
      "text/plain": [
       "24"
      ]
     },
     "execution_count": 29,
     "metadata": {},
     "output_type": "execute_result"
    }
   ],
   "source": [
    "final_filter_features = set(pearson_filter_features) & set(cdors_filter_features)\n",
    "len(final_filter_features)"
   ]
  },
  {
   "cell_type": "code",
   "execution_count": 30,
   "metadata": {},
   "outputs": [
    {
     "data": {
      "text/plain": [
       "(2777, 24)"
      ]
     },
     "execution_count": 30,
     "metadata": {},
     "output_type": "execute_result"
    }
   ],
   "source": [
    "X_filter = X_ini[list(final_filter_features)].copy()\n",
    "X_filter.shape"
   ]
  },
  {
   "cell_type": "code",
   "execution_count": 32,
   "metadata": {},
   "outputs": [
    {
     "data": {
      "text/plain": [
       "Index(['LAeq_adjust_total_ari_A+n', 'SPL_500_geomean', 'SPL_500_arimean',\n",
       "       'LAeq_adjust_total_geo_A+n', 'Leq_8000', 'Leq_4000', 'SPL_500_median',\n",
       "       'SPL_2000_arimean', 'Leq_500', 'SPL_2000_geomean', 'max_Peak_SPL_dB',\n",
       "       'Leq_1000', 'Leq', 'SPL_250_arimean', 'SPL_1000_arimean',\n",
       "       'SPL_2000_median', 'Leq_125', 'Leq_250', 'SPL_1000_geomean', 'Leq_2000',\n",
       "       'Leq_16000', 'LAeq_adjust_segment_ari_A+n', 'SPL_1000_median', 'LAeq'],\n",
       "      dtype='object')"
      ]
     },
     "execution_count": 32,
     "metadata": {},
     "output_type": "execute_result"
    }
   ],
   "source": [
    "X_filter.columns"
   ]
  },
  {
   "cell_type": "markdown",
   "metadata": {},
   "source": [
    "## Feature Wrapper\n",
    "\n",
    "* Wrapper will left half of the features."
   ]
  },
  {
   "cell_type": "code",
   "execution_count": 33,
   "metadata": {},
   "outputs": [],
   "source": [
    "wrapper = RFE(estimator=RandomForestRegressor(), n_features_to_select=X_filter.shape[1]//2)\n",
    "wrapper = wrapper.fit(X_filter, y)\n",
    "final_wrapper_features = X_filter.columns[wrapper.support_]"
   ]
  },
  {
   "cell_type": "code",
   "execution_count": 34,
   "metadata": {},
   "outputs": [
    {
     "data": {
      "text/plain": [
       "Index(['LAeq_adjust_total_ari_A+n', 'LAeq_adjust_total_geo_A+n',\n",
       "       'SPL_500_median', 'SPL_2000_geomean', 'max_Peak_SPL_dB', 'Leq_1000',\n",
       "       'SPL_250_arimean', 'SPL_2000_median', 'Leq_125', 'Leq_2000',\n",
       "       'Leq_16000', 'LAeq_adjust_segment_ari_A+n'],\n",
       "      dtype='object')"
      ]
     },
     "execution_count": 34,
     "metadata": {},
     "output_type": "execute_result"
    }
   ],
   "source": [
    "final_wrapper_features"
   ]
  },
  {
   "cell_type": "code",
   "execution_count": 35,
   "metadata": {},
   "outputs": [
    {
     "data": {
      "text/plain": [
       "(2777, 12)"
      ]
     },
     "execution_count": 35,
     "metadata": {},
     "output_type": "execute_result"
    }
   ],
   "source": [
    "X_wrapper = X_ini[final_wrapper_features].copy()\n",
    "X_wrapper.shape"
   ]
  },
  {
   "cell_type": "markdown",
   "metadata": {},
   "source": [
    "## Feature combination\n",
    "\n",
    "* combination features with degree=2"
   ]
  },
  {
   "cell_type": "code",
   "execution_count": 36,
   "metadata": {},
   "outputs": [
    {
     "data": {
      "text/plain": [
       "(2777, 90)"
      ]
     },
     "execution_count": 36,
     "metadata": {},
     "output_type": "execute_result"
    }
   ],
   "source": [
    "poly = PolynomialFeatures(degree=2, include_bias=False)\n",
    "X_combination = pd.DataFrame(poly.fit_transform(X_wrapper), columns=poly.get_feature_names_out(), index=X_wrapper.index)\n",
    "X_combination.shape"
   ]
  },
  {
   "cell_type": "markdown",
   "metadata": {},
   "source": [
    "#### Feature selection again\n",
    "##### Feature filter"
   ]
  },
  {
   "cell_type": "code",
   "execution_count": 37,
   "metadata": {},
   "outputs": [
    {
     "data": {
      "text/plain": [
       "count    91.000000\n",
       "mean      0.270036\n",
       "std       0.100563\n",
       "min       0.147922\n",
       "25%       0.213243\n",
       "50%       0.267748\n",
       "75%       0.324165\n",
       "max       1.000000\n",
       "Name: NIPTS, dtype: float64"
      ]
     },
     "execution_count": 37,
     "metadata": {},
     "output_type": "execute_result"
    }
   ],
   "source": [
    "corr_matrix = X_combination.join(y).corr()\n",
    "corr_matrix[\"NIPTS\"].abs().describe()"
   ]
  },
  {
   "cell_type": "code",
   "execution_count": 39,
   "metadata": {},
   "outputs": [
    {
     "data": {
      "text/plain": [
       "55"
      ]
     },
     "execution_count": 39,
     "metadata": {},
     "output_type": "execute_result"
    }
   ],
   "source": [
    "sub_pearson_filter_features = seq(\n",
    "    corr_matrix[np.abs(corr_matrix[\"NIPTS\"]) > 0.25].index).filter(\n",
    "        lambda x: not x.startswith(\"NIPTS\")).list()\n",
    "len(sub_pearson_filter_features)"
   ]
  },
  {
   "cell_type": "code",
   "execution_count": 40,
   "metadata": {},
   "outputs": [
    {
     "data": {
      "text/plain": [
       "count    90.000000\n",
       "mean      0.066948\n",
       "std       0.032147\n",
       "min       0.020429\n",
       "25%       0.038338\n",
       "50%       0.063974\n",
       "75%       0.096893\n",
       "max       0.119855\n",
       "dtype: float64"
      ]
     },
     "execution_count": 40,
     "metadata": {},
     "output_type": "execute_result"
    }
   ],
   "source": [
    "dcors = {}\n",
    "for col in X_combination.columns:\n",
    "    dcors[col] = dcov_all(X_combination[col].values, y.values)\n",
    "pd.Series(dcors).describe()"
   ]
  },
  {
   "cell_type": "code",
   "execution_count": 42,
   "metadata": {},
   "outputs": [
    {
     "data": {
      "text/plain": [
       "49"
      ]
     },
     "execution_count": 42,
     "metadata": {},
     "output_type": "execute_result"
    }
   ],
   "source": [
    "sub_cdors_filter_features = seq(\n",
    "    dcors.items()).filter(lambda x: x[1] > 0.06).map(lambda x: x[0]).list()\n",
    "len(sub_cdors_filter_features)"
   ]
  },
  {
   "cell_type": "code",
   "execution_count": 43,
   "metadata": {},
   "outputs": [
    {
     "data": {
      "text/plain": [
       "49"
      ]
     },
     "execution_count": 43,
     "metadata": {},
     "output_type": "execute_result"
    }
   ],
   "source": [
    "sub_final_filter_features = set(sub_pearson_filter_features) & set(sub_cdors_filter_features)\n",
    "len(sub_final_filter_features)"
   ]
  },
  {
   "cell_type": "code",
   "execution_count": 44,
   "metadata": {},
   "outputs": [
    {
     "data": {
      "text/plain": [
       "{'LAeq_adjust_segment_ari_A+n',\n",
       " 'LAeq_adjust_segment_ari_A+n^2',\n",
       " 'LAeq_adjust_total_ari_A+n',\n",
       " 'LAeq_adjust_total_ari_A+n LAeq_adjust_segment_ari_A+n',\n",
       " 'LAeq_adjust_total_ari_A+n LAeq_adjust_total_geo_A+n',\n",
       " 'LAeq_adjust_total_ari_A+n Leq_1000',\n",
       " 'LAeq_adjust_total_ari_A+n Leq_125',\n",
       " 'LAeq_adjust_total_ari_A+n Leq_16000',\n",
       " 'LAeq_adjust_total_ari_A+n Leq_2000',\n",
       " 'LAeq_adjust_total_ari_A+n SPL_2000_geomean',\n",
       " 'LAeq_adjust_total_ari_A+n SPL_250_arimean',\n",
       " 'LAeq_adjust_total_ari_A+n SPL_500_median',\n",
       " 'LAeq_adjust_total_ari_A+n max_Peak_SPL_dB',\n",
       " 'LAeq_adjust_total_ari_A+n^2',\n",
       " 'LAeq_adjust_total_geo_A+n',\n",
       " 'LAeq_adjust_total_geo_A+n LAeq_adjust_segment_ari_A+n',\n",
       " 'LAeq_adjust_total_geo_A+n Leq_1000',\n",
       " 'LAeq_adjust_total_geo_A+n Leq_125',\n",
       " 'LAeq_adjust_total_geo_A+n Leq_16000',\n",
       " 'LAeq_adjust_total_geo_A+n Leq_2000',\n",
       " 'LAeq_adjust_total_geo_A+n SPL_2000_geomean',\n",
       " 'LAeq_adjust_total_geo_A+n SPL_250_arimean',\n",
       " 'LAeq_adjust_total_geo_A+n SPL_500_median',\n",
       " 'LAeq_adjust_total_geo_A+n max_Peak_SPL_dB',\n",
       " 'LAeq_adjust_total_geo_A+n^2',\n",
       " 'Leq_1000',\n",
       " 'Leq_1000 LAeq_adjust_segment_ari_A+n',\n",
       " 'Leq_1000 Leq_125',\n",
       " 'Leq_1000 Leq_16000',\n",
       " 'Leq_1000 Leq_2000',\n",
       " 'Leq_1000 SPL_250_arimean',\n",
       " 'Leq_1000^2',\n",
       " 'Leq_125 LAeq_adjust_segment_ari_A+n',\n",
       " 'Leq_125 Leq_2000',\n",
       " 'Leq_16000 LAeq_adjust_segment_ari_A+n',\n",
       " 'Leq_2000',\n",
       " 'Leq_2000 LAeq_adjust_segment_ari_A+n',\n",
       " 'Leq_2000 Leq_16000',\n",
       " 'Leq_2000^2',\n",
       " 'SPL_250_arimean LAeq_adjust_segment_ari_A+n',\n",
       " 'SPL_250_arimean Leq_2000',\n",
       " 'SPL_500_median LAeq_adjust_segment_ari_A+n',\n",
       " 'SPL_500_median Leq_2000',\n",
       " 'max_Peak_SPL_dB',\n",
       " 'max_Peak_SPL_dB LAeq_adjust_segment_ari_A+n',\n",
       " 'max_Peak_SPL_dB Leq_1000',\n",
       " 'max_Peak_SPL_dB Leq_125',\n",
       " 'max_Peak_SPL_dB Leq_2000',\n",
       " 'max_Peak_SPL_dB^2'}"
      ]
     },
     "execution_count": 44,
     "metadata": {},
     "output_type": "execute_result"
    }
   ],
   "source": [
    "sub_final_filter_features"
   ]
  },
  {
   "cell_type": "code",
   "execution_count": 45,
   "metadata": {},
   "outputs": [
    {
     "data": {
      "text/plain": [
       "(2777, 49)"
      ]
     },
     "execution_count": 45,
     "metadata": {},
     "output_type": "execute_result"
    }
   ],
   "source": [
    "X_combination_filter = X_combination[list(sub_final_filter_features)].copy()\n",
    "X_combination_filter.shape"
   ]
  },
  {
   "cell_type": "markdown",
   "metadata": {},
   "source": [
    "##### Feature wrapper"
   ]
  },
  {
   "cell_type": "code",
   "execution_count": 46,
   "metadata": {},
   "outputs": [],
   "source": [
    "subwrapper = RFE(estimator=RandomForestRegressor(), n_features_to_select=X_combination_filter.shape[1]//2)\n",
    "subwrapper = subwrapper.fit(X_combination_filter, y)\n",
    "sub_final_wrapper_features = X_combination_filter.columns[subwrapper.support_]"
   ]
  },
  {
   "cell_type": "code",
   "execution_count": 47,
   "metadata": {},
   "outputs": [
    {
     "data": {
      "text/plain": [
       "Index(['LAeq_adjust_total_ari_A+n',\n",
       "       'LAeq_adjust_total_ari_A+n max_Peak_SPL_dB',\n",
       "       'LAeq_adjust_total_ari_A+n LAeq_adjust_segment_ari_A+n',\n",
       "       'LAeq_adjust_total_geo_A+n', 'Leq_1000 Leq_16000',\n",
       "       'Leq_1000 LAeq_adjust_segment_ari_A+n',\n",
       "       'LAeq_adjust_total_ari_A+n SPL_2000_geomean',\n",
       "       'LAeq_adjust_segment_ari_A+n^2', 'max_Peak_SPL_dB Leq_125',\n",
       "       'Leq_2000^2', 'max_Peak_SPL_dB', 'Leq_1000', 'Leq_125 Leq_2000',\n",
       "       'SPL_250_arimean LAeq_adjust_segment_ari_A+n',\n",
       "       'LAeq_adjust_total_geo_A+n max_Peak_SPL_dB',\n",
       "       'SPL_500_median LAeq_adjust_segment_ari_A+n', 'SPL_500_median Leq_2000',\n",
       "       'Leq_1000 SPL_250_arimean', 'max_Peak_SPL_dB Leq_2000',\n",
       "       'LAeq_adjust_total_geo_A+n LAeq_adjust_segment_ari_A+n',\n",
       "       'max_Peak_SPL_dB Leq_1000', 'Leq_125 LAeq_adjust_segment_ari_A+n',\n",
       "       'LAeq_adjust_total_geo_A+n SPL_2000_geomean',\n",
       "       'Leq_16000 LAeq_adjust_segment_ari_A+n'],\n",
       "      dtype='object')"
      ]
     },
     "execution_count": 47,
     "metadata": {},
     "output_type": "execute_result"
    }
   ],
   "source": [
    "sub_final_wrapper_features"
   ]
  },
  {
   "cell_type": "code",
   "execution_count": 48,
   "metadata": {},
   "outputs": [
    {
     "data": {
      "text/plain": [
       "(2777, 24)"
      ]
     },
     "execution_count": 48,
     "metadata": {},
     "output_type": "execute_result"
    }
   ],
   "source": [
    "X_combination_wrapper = X_combination_filter[sub_final_wrapper_features].copy()\n",
    "X_combination_wrapper.shape"
   ]
  },
  {
   "cell_type": "markdown",
   "metadata": {},
   "source": [
    "### Feature importance ranking"
   ]
  },
  {
   "cell_type": "code",
   "execution_count": 51,
   "metadata": {},
   "outputs": [
    {
     "data": {
      "application/vnd.jupyter.widget-view+json": {
       "model_id": "6147d65f03ab49328560ebdeb66d1116",
       "version_major": 2,
       "version_minor": 0
      },
      "text/plain": [
       "MetricVisualizer(layout=Layout(align_self='stretch', height='500px'))"
      ]
     },
     "metadata": {},
     "output_type": "display_data"
    },
    {
     "name": "stderr",
     "output_type": "stream",
     "text": [
      "Warning: Overfitting detector is active, thus evaluation metric is calculated on every iteration. 'metric_period' is ignored for evaluation metric.\n"
     ]
    },
    {
     "name": "stdout",
     "output_type": "stream",
     "text": [
      "Training on fold [0/3]\n",
      "0:\tlearn: 18.5286245\ttest: 18.6280706\tbest: 18.6280706 (0)\ttotal: 34.5ms\tremaining: 8m 36s\n",
      "1000:\tlearn: 3.2000033\ttest: 12.6917182\tbest: 12.0710698 (97)\ttotal: 35.6s\tremaining: 8m 17s\n",
      "\n",
      "bestTest = 12.07106977\n",
      "bestIteration = 97\n",
      "\n",
      "Training on fold [1/3]\n",
      "0:\tlearn: 18.3662105\ttest: 18.9401098\tbest: 18.9401098 (0)\ttotal: 43.7ms\tremaining: 10m 55s\n",
      "1000:\tlearn: 2.9640168\ttest: 13.1174156\tbest: 12.8925340 (176)\ttotal: 35.6s\tremaining: 8m 17s\n",
      "\n",
      "bestTest = 12.89253397\n",
      "bestIteration = 176\n",
      "\n",
      "Training on fold [2/3]\n",
      "0:\tlearn: 18.7639798\ttest: 18.1011286\tbest: 18.1011286 (0)\ttotal: 48.9ms\tremaining: 12m 12s\n",
      "1000:\tlearn: 3.2131457\ttest: 12.3160990\tbest: 11.9304426 (88)\ttotal: 35.5s\tremaining: 8m 16s\n",
      "\n",
      "bestTest = 11.93044256\n",
      "bestIteration = 88\n",
      "\n"
     ]
    }
   ],
   "source": [
    "data_pool = Pool(data=X_combination_wrapper, label=y)\n",
    "cv_params = {\n",
    "    \"learning_rate\": 0.05,\n",
    "    \"l2_leaf_reg\": 3,\n",
    "    \"max_depth\": 10,\n",
    "    \"n_estimators\": 15000,\n",
    "    \"early_stopping_rounds\": 1000,\n",
    "    \"eval_metric\": \"RMSE\",\n",
    "    \"metric_period\": 50,\n",
    "    \"od_type\": \"Iter\",\n",
    "    \"loss_function\": \"RMSE\",\n",
    "    \"verbose\": 1000,\n",
    "    \"random_seed\": 42,\n",
    "    \"task_type\": \"CPU\"\n",
    "}\n",
    "cv_data, cv_model = cv(\n",
    "    data_pool,\n",
    "    cv_params,\n",
    "    plot=True,\n",
    "    return_models=True\n",
    ")"
   ]
  },
  {
   "cell_type": "code",
   "execution_count": 52,
   "metadata": {},
   "outputs": [
    {
     "data": {
      "text/plain": [
       "{'max_Peak_SPL_dB Leq_125': 6.600275815692589,\n",
       " 'LAeq_adjust_total_ari_A+n SPL_2000_geomean': 5.778002966509115,\n",
       " 'Leq_1000 Leq_16000': 5.326652066111066,\n",
       " 'Leq_2000^2': 5.319184189809835,\n",
       " 'Leq_125 Leq_2000': 5.250384963401088,\n",
       " 'max_Peak_SPL_dB': 5.1133105561538255,\n",
       " 'Leq_16000 LAeq_adjust_segment_ari_A+n': 5.068203536366713,\n",
       " 'SPL_500_median Leq_2000': 4.787711129182696,\n",
       " 'SPL_500_median LAeq_adjust_segment_ari_A+n': 4.680500776180819,\n",
       " 'Leq_1000': 4.611251577924188,\n",
       " 'Leq_125 LAeq_adjust_segment_ari_A+n': 4.490591601560927,\n",
       " 'SPL_250_arimean LAeq_adjust_segment_ari_A+n': 4.486992864327325,\n",
       " 'LAeq_adjust_total_geo_A+n SPL_2000_geomean': 4.479187390517483,\n",
       " 'Leq_1000 SPL_250_arimean': 4.0179624947273265,\n",
       " 'LAeq_adjust_total_geo_A+n': 3.7624593654170617,\n",
       " 'max_Peak_SPL_dB Leq_1000': 3.738425772393465,\n",
       " 'LAeq_adjust_segment_ari_A+n^2': 3.591330039298841,\n",
       " 'LAeq_adjust_total_geo_A+n max_Peak_SPL_dB': 3.113528045872451,\n",
       " 'max_Peak_SPL_dB Leq_2000': 3.0638859583446365,\n",
       " 'LAeq_adjust_total_ari_A+n max_Peak_SPL_dB': 2.7772015639613223,\n",
       " 'Leq_1000 LAeq_adjust_segment_ari_A+n': 2.763793900509537,\n",
       " 'LAeq_adjust_total_ari_A+n': 2.540070746561791,\n",
       " 'LAeq_adjust_total_geo_A+n LAeq_adjust_segment_ari_A+n': 2.402439883654889,\n",
       " 'LAeq_adjust_total_ari_A+n LAeq_adjust_segment_ari_A+n': 2.236652795520978}"
      ]
     },
     "execution_count": 52,
     "metadata": {},
     "output_type": "execute_result"
    }
   ],
   "source": [
    "importances = dict(zip(X_combination_wrapper.columns, cv_model[2].get_feature_importance()))\n",
    "seq(importances.items()).sorted(lambda x: x[1], reverse=True).dict()"
   ]
  },
  {
   "cell_type": "code",
   "execution_count": 55,
   "metadata": {},
   "outputs": [
    {
     "name": "stdout",
     "output_type": "stream",
     "text": [
      "0:\tlearn: 13.1856307\ttotal: 38.6ms\tremaining: 6m 26s\n",
      "1000:\tlearn: 3.4740804\ttotal: 38.8s\tremaining: 5m 48s\n",
      "2000:\tlearn: 1.7103406\ttotal: 1m 16s\tremaining: 5m 5s\n",
      "3000:\tlearn: 1.2672960\ttotal: 1m 54s\tremaining: 4m 27s\n",
      "4000:\tlearn: 1.1595616\ttotal: 2m 32s\tremaining: 3m 48s\n",
      "5000:\tlearn: 1.1350164\ttotal: 3m 8s\tremaining: 3m 8s\n",
      "6000:\tlearn: 1.1296387\ttotal: 3m 44s\tremaining: 2m 29s\n",
      "7000:\tlearn: 1.1282920\ttotal: 4m 21s\tremaining: 1m 52s\n",
      "8000:\tlearn: 1.1279730\ttotal: 4m 59s\tremaining: 1m 14s\n",
      "9000:\tlearn: 1.1278871\ttotal: 5m 36s\tremaining: 37.3s\n",
      "9999:\tlearn: 1.1278669\ttotal: 6m 13s\tremaining: 0us\n"
     ]
    },
    {
     "name": "stderr",
     "output_type": "stream",
     "text": [
      "\u001b[32m2024-01-10 14:50:42.898\u001b[0m | \u001b[1mINFO    \u001b[0m | \u001b[36mML_regression\u001b[0m:\u001b[36mget_importance_from_regressor\u001b[0m:\u001b[36m178\u001b[0m - \u001b[1mALL feature for model NIPTS: MAE = 9.8244\u001b[0m\n"
     ]
    },
    {
     "data": {
      "text/plain": [
       "{'Leq_1000 Leq_16000': 5.680189355194448,\n",
       " 'max_Peak_SPL_dB Leq_125': 5.582936254894653,\n",
       " 'Leq_16000 LAeq_adjust_segment_ari_A+n': 5.503126842251084,\n",
       " 'max_Peak_SPL_dB': 5.399644269374059,\n",
       " 'Leq_1000': 5.245622069096669,\n",
       " 'Leq_1000 SPL_250_arimean': 5.014654222713626,\n",
       " 'SPL_250_arimean LAeq_adjust_segment_ari_A+n': 4.9369541451356165,\n",
       " 'Leq_125 LAeq_adjust_segment_ari_A+n': 4.818696025263446,\n",
       " 'SPL_500_median Leq_2000': 4.745398730547783,\n",
       " 'LAeq_adjust_total_ari_A+n SPL_2000_geomean': 4.716795796820269,\n",
       " 'SPL_500_median LAeq_adjust_segment_ari_A+n': 4.6699272947313935,\n",
       " 'Leq_125 Leq_2000': 4.289521228732205,\n",
       " 'LAeq_adjust_total_geo_A+n SPL_2000_geomean': 4.271858686822812,\n",
       " 'max_Peak_SPL_dB Leq_1000': 4.170206013189878,\n",
       " 'Leq_2000^2': 4.025040322867645,\n",
       " 'LAeq_adjust_total_geo_A+n': 3.4107902463998694,\n",
       " 'LAeq_adjust_total_ari_A+n max_Peak_SPL_dB': 3.393354651637076,\n",
       " 'LAeq_adjust_total_ari_A+n': 3.3868840773160733,\n",
       " 'max_Peak_SPL_dB Leq_2000': 3.2071494556692812,\n",
       " 'LAeq_adjust_segment_ari_A+n^2': 3.1687759163492912,\n",
       " 'Leq_1000 LAeq_adjust_segment_ari_A+n': 2.9510294152154133,\n",
       " 'LAeq_adjust_total_ari_A+n LAeq_adjust_segment_ari_A+n': 2.6386487060456587,\n",
       " 'LAeq_adjust_total_geo_A+n max_Peak_SPL_dB': 2.6217226279235404,\n",
       " 'LAeq_adjust_total_geo_A+n LAeq_adjust_segment_ari_A+n': 2.151073645808203}"
      ]
     },
     "execution_count": 55,
     "metadata": {},
     "output_type": "execute_result"
    }
   ],
   "source": [
    "model, MAE, importances_res = get_importance_from_regressor(\n",
    "    X=X_combination_wrapper,\n",
    "    y=y,\n",
    "    catboost_regressor_params=catboost_regressor_params,\n",
    "    poly_degree=1)\n",
    "\n",
    "seq(importances_res.items()).sorted(lambda x: x[1], reverse=True).dict()"
   ]
  },
  {
   "cell_type": "code",
   "execution_count": 57,
   "metadata": {},
   "outputs": [
    {
     "name": "stdout",
     "output_type": "stream",
     "text": [
      "0:\tlearn: 13.1921761\ttotal: 15.1ms\tremaining: 2m 30s\n",
      "1000:\tlearn: 6.9888795\ttotal: 11.3s\tremaining: 1m 41s\n",
      "2000:\tlearn: 4.5015174\ttotal: 22.1s\tremaining: 1m 28s\n",
      "3000:\tlearn: 3.2227286\ttotal: 33.1s\tremaining: 1m 17s\n",
      "4000:\tlearn: 2.4785781\ttotal: 43.9s\tremaining: 1m 5s\n",
      "5000:\tlearn: 2.0605005\ttotal: 54.8s\tremaining: 54.8s\n",
      "6000:\tlearn: 1.8230278\ttotal: 1m 5s\tremaining: 43.8s\n",
      "7000:\tlearn: 1.6893926\ttotal: 1m 16s\tremaining: 32.9s\n",
      "8000:\tlearn: 1.6129592\ttotal: 1m 27s\tremaining: 21.9s\n",
      "9000:\tlearn: 1.5734094\ttotal: 1m 38s\tremaining: 11s\n",
      "9999:\tlearn: 1.5484037\ttotal: 1m 49s\tremaining: 0us\n"
     ]
    },
    {
     "name": "stderr",
     "output_type": "stream",
     "text": [
      "\u001b[32m2024-01-10 15:02:43.175\u001b[0m | \u001b[1mINFO    \u001b[0m | \u001b[36mML_regression\u001b[0m:\u001b[36mget_importance_from_regressor\u001b[0m:\u001b[36m178\u001b[0m - \u001b[1mALL feature for model NIPTS: MAE = 10.6864\u001b[0m\n"
     ]
    }
   ],
   "source": [
    "select_features = [\n",
    "#  'Leq_1000 Leq_16000',\n",
    "#  'max_Peak_SPL_dB Leq_125',\n",
    "#  'Leq_16000 LAeq_adjust_segment_ari_A+n',\n",
    " 'max_Peak_SPL_dB',\n",
    "#  'Leq_1000',\n",
    "#  'Leq_1000 SPL_250_arimean',\n",
    "#  'SPL_250_arimean LAeq_adjust_segment_ari_A+n',\n",
    "#  'Leq_125 LAeq_adjust_segment_ari_A+n',\n",
    "#  'SPL_500_median Leq_2000',\n",
    "#  'LAeq_adjust_total_ari_A+n SPL_2000_geomean',\n",
    "#  'SPL_500_median LAeq_adjust_segment_ari_A+n',\n",
    "#  'Leq_125 Leq_2000',\n",
    "#  'LAeq_adjust_total_geo_A+n SPL_2000_geomean',\n",
    "#  'max_Peak_SPL_dB Leq_1000',\n",
    "#  'Leq_2000^2',\n",
    " 'LAeq_adjust_total_geo_A+n',\n",
    " 'LAeq_adjust_total_ari_A+n max_Peak_SPL_dB',\n",
    " 'LAeq_adjust_total_ari_A+n',\n",
    "#  'max_Peak_SPL_dB Leq_2000',\n",
    "#  'LAeq_adjust_segment_ari_A+n^2',\n",
    "#  'Leq_1000 LAeq_adjust_segment_ari_A+n',\n",
    "#  'LAeq_adjust_total_ari_A+n LAeq_adjust_segment_ari_A+n',\n",
    " 'LAeq_adjust_total_geo_A+n max_Peak_SPL_dB',\n",
    "#  'LAeq_adjust_total_geo_A+n LAeq_adjust_segment_ari_A+n'\n",
    " ]\n",
    "X_use = X_combination_wrapper if select_features == [] else X_combination_wrapper[select_features]\n",
    "y = extract_df[\"NIPTS\"]\n",
    "model, MAE, importances_res = get_importance_from_regressor(\n",
    "    X=X_use,\n",
    "    y=y,\n",
    "    catboost_regressor_params=catboost_regressor_params,\n",
    "    poly_degree=1)"
   ]
  },
  {
   "cell_type": "code",
   "execution_count": null,
   "metadata": {},
   "outputs": [],
   "source": []
  }
 ],
 "metadata": {
  "kernelspec": {
   "display_name": "base",
   "language": "python",
   "name": "python3"
  },
  "language_info": {
   "codemirror_mode": {
    "name": "ipython",
    "version": 3
   },
   "file_extension": ".py",
   "mimetype": "text/x-python",
   "name": "python",
   "nbconvert_exporter": "python",
   "pygments_lexer": "ipython3",
   "version": "3.11.3"
  }
 },
 "nbformat": 4,
 "nbformat_minor": 2
}
